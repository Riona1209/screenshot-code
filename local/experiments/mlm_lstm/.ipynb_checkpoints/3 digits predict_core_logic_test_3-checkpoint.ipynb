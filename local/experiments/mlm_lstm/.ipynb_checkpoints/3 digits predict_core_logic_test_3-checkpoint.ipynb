{
 "cells": [
  {
   "cell_type": "code",
   "execution_count": null,
   "metadata": {
    "collapsed": true
   },
   "outputs": [],
   "source": [
    "def define_models(n_inputs, n_outputs, n_units):\n",
    "    encoder_input = Input(shape=(None, n_inputs))\n",
    "    encoder = LSTM(n_units, return_state=TRUE)\n",
    "    encoder_output, state_c, state_h = encoder(encoder_input)\n",
    "    encoder_states = [state_c, state_h]"
   ]
  },
  {
   "cell_type": "code",
   "execution_count": null,
   "metadata": {
    "collapsed": true
   },
   "outputs": [],
   "source": []
  }
 ],
 "metadata": {
  "kernelspec": {
   "display_name": "Python 3",
   "language": "python",
   "name": "python3"
  },
  "language_info": {
   "codemirror_mode": {
    "name": "ipython",
    "version": 3
   },
   "file_extension": ".py",
   "mimetype": "text/x-python",
   "name": "python",
   "nbconvert_exporter": "python",
   "pygments_lexer": "ipython3",
   "version": "3.6.1"
  }
 },
 "nbformat": 4,
 "nbformat_minor": 2
}
