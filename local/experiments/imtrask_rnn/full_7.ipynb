{
 "cells": [
  {
   "cell_type": "code",
   "execution_count": 1,
   "metadata": {
    "collapsed": true
   },
   "outputs": [],
   "source": [
    "import copy, numpy as np"
   ]
  },
  {
   "cell_type": "code",
   "execution_count": 2,
   "metadata": {
    "collapsed": true
   },
   "outputs": [],
   "source": [
    "def sigmoid(x):\n",
    "    return 1 / (1 + np.exp(-x))"
   ]
  },
  {
   "cell_type": "code",
   "execution_count": 3,
   "metadata": {},
   "outputs": [],
   "source": [
    "def sigmoid_output_to_derivative(output):\n",
    "    return output / (1 - output)"
   ]
  },
  {
   "cell_type": "code",
   "execution_count": 4,
   "metadata": {},
   "outputs": [],
   "source": [
    "binary_dim = 8\n",
    "int2binary = {}\n",
    "largest_number = pow(2, binary_dim)"
   ]
  },
  {
   "cell_type": "code",
   "execution_count": 7,
   "metadata": {},
   "outputs": [],
   "source": [
    "binary = np.unpackbits(\n",
    "np.array([range(largest_number)], dtype=np.uint8).T, axis=1)"
   ]
  },
  {
   "cell_type": "code",
   "execution_count": 8,
   "metadata": {},
   "outputs": [],
   "source": [
    "for i in range(largest_number):\n",
    "    int2binary[i] = binary[i]"
   ]
  },
  {
   "cell_type": "code",
   "execution_count": 10,
   "metadata": {
    "collapsed": true
   },
   "outputs": [],
   "source": [
    "alpha = 0.1\n",
    "input_dim = 2 \n",
    "hidden_dim = 16\n",
    "output_dim = 1"
   ]
  },
  {
   "cell_type": "code",
   "execution_count": 12,
   "metadata": {},
   "outputs": [],
   "source": [
    "synapse_0 = 2*np.random.random([input_dim, hidden_dim]) - 1\n",
    "synapse_h = 2*np.random.random([hidden_dim, hidden_dim]) - 1\n",
    "synapse_1 = 2*np.random.random([hidden_dim, output_dim]) - 1"
   ]
  },
  {
   "cell_type": "code",
   "execution_count": 17,
   "metadata": {},
   "outputs": [],
   "source": [
    "for i in range(1):\n",
    "    int_a = np.random.randint(largest_number)\n",
    "    a = int2binary[int_a]\n",
    "    \n",
    "    int_b = np.random.randint(largest_number - int_a)\n",
    "    b = int2binary[int_b]\n",
    "    \n",
    "    int_c = int_a + int_b\n",
    "    c = int2binary[int_c]\n",
    "    \n",
    "    layer_1_values = list()\n",
    "    layer_2_delta = list()\n",
    "    \n",
    "    layer_1_values.append(np.zeros(hidden_dim))\n",
    "    \n",
    "    for i in range(binary_dim)[::-1]:\n",
    "        X = np.array([[a[i], b[i]]])\n",
    "        y = np.array([c[i]])\n",
    "        \n",
    "        layer_1 = sigmoid(np.dot(X, synapse_0) + np.dot(layer_1_values[-1], synapse_h))\n",
    "        layer_2 = sigmoid(np.dot(layer_1, synapse_1))\n",
    "        \n",
    "        error = y - layer_2\n",
    "        layer_2_delta.append(error * sigmoid_output_to_derivative(layer_2))\n",
    "        \n",
    "        layer_1_values.append(layer_1)\n",
    "        \n",
    "    for i in range(binary_dim)[::-1]:\n",
    "        first = binary_dim - i - 1\n",
    "        X = np.array([[a[first], b[first]]])\n",
    "        \n",
    "        layer_1 = layer_1_values[i]\n",
    "        prev_layer_1 = layer_1_values[i + 1]\n",
    "        delta_layer_2 = layer_2_delta[i]\n",
    "        \n",
    "        error_layer_1 = \n",
    "        layer_1_delta = error_layer_1 * sigmoid_output_to_derivative(layer_1)\n",
    "        \n",
    "        \n",
    "        \n",
    "        \n",
    "        \n",
    "        \n",
    "        \n",
    "        \n",
    "        \n",
    "        \n",
    "        \n",
    "        \n",
    "        \n",
    "        \n",
    "        \n",
    "        \n",
    "        \n",
    "        "
   ]
  },
  {
   "cell_type": "code",
   "execution_count": null,
   "metadata": {
    "collapsed": true
   },
   "outputs": [],
   "source": []
  }
 ],
 "metadata": {
  "kernelspec": {
   "display_name": "Python 3",
   "language": "python",
   "name": "python3"
  },
  "language_info": {
   "codemirror_mode": {
    "name": "ipython",
    "version": 3
   },
   "file_extension": ".py",
   "mimetype": "text/x-python",
   "name": "python",
   "nbconvert_exporter": "python",
   "pygments_lexer": "ipython3",
   "version": "3.6.1"
  }
 },
 "nbformat": 4,
 "nbformat_minor": 2
}
