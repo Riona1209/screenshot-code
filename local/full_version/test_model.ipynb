{
 "cells": [
  {
   "cell_type": "code",
   "execution_count": 1,
   "metadata": {},
   "outputs": [
    {
     "name": "stderr",
     "output_type": "stream",
     "text": [
      "Using TensorFlow backend.\n",
      "/Users/ewallner/.brew/Cellar/python3/3.6.3/Frameworks/Python.framework/Versions/3.6/lib/python3.6/importlib/_bootstrap.py:219: RuntimeWarning: compiletime version 3.5 of module 'tensorflow.python.framework.fast_tensor_util' does not match runtime version 3.6\n",
      "  return f(*args, **kwds)\n"
     ]
    }
   ],
   "source": [
    "from os import listdir\n",
    "from numpy import array\n",
    "from keras.preprocessing.text import Tokenizer\n",
    "from keras.preprocessing.sequence import pad_sequences\n",
    "from keras.models import Sequential\n",
    "from keras.utils import to_categorical\n",
    "from keras.layers.core import Dense, Dropout, Activation, Flatten\n",
    "from keras.layers.convolutional import Convolution2D, MaxPooling2D, ZeroPadding2D\n",
    "from keras.optimizers import SGD, Adadelta, Adagrad\n",
    "from keras.utils import np_utils, generic_utils\n",
    "from keras.callbacks import EarlyStopping\n",
    "from keras.layers.advanced_activations import PReLU, LeakyReLU\n",
    "from keras.layers import Embedding,GRU,TimeDistributed,RepeatVector, LSTM, concatenate , Input, Reshape\n",
    "from keras.preprocessing.text import one_hot\n",
    "from keras.preprocessing import sequence\n",
    "from keras.preprocessing.image import ImageDataGenerator, array_to_img, img_to_array, load_img\n",
    "from keras import backend as K \n",
    "from keras.applications.inception_resnet_v2 import InceptionResNetV2\n",
    "from keras.preprocessing import image\n",
    "from keras.applications.inception_resnet_v2 import preprocess_input\n",
    "from keras.models import Model\n",
    "from keras.models import model_from_json\n",
    "from nltk.translate.bleu_score import sentence_bleu\n",
    "from tqdm import tqdm\n",
    "import numpy as np\n",
    "import os\n",
    "from compiler.classes.Compiler import *"
   ]
  },
  {
   "cell_type": "code",
   "execution_count": 26,
   "metadata": {
    "collapsed": true
   },
   "outputs": [],
   "source": [
    "def load_data(data_dir):\n",
    "    text = []\n",
    "    images = []\n",
    "    all_filenames = os.listdir(data_dir)\n",
    "    all_filenames.sort()\n",
    "    for filename in (all_filenames)[-40:]:\n",
    "        if filename[-3:] == \"npz\":\n",
    "            image = np.load(data_dir+filename)\n",
    "            images.append(image['features'])\n",
    "        else:\n",
    "            syntax = '<START> ' + load_doc(data_dir+filename) + ' <END>'\n",
    "            syntax = ' '.join(syntax.split())\n",
    "            syntax = syntax.replace(',', ' ,')\n",
    "            text.append(syntax)\n",
    "    images = np.array(images, dtype=float)\n",
    "    text = np.array(text)\n",
    "    return images, text"
   ]
  },
  {
   "cell_type": "code",
   "execution_count": 27,
   "metadata": {
    "collapsed": true
   },
   "outputs": [],
   "source": [
    "num_words = 17\n",
    "def load_doc(filename):\n",
    "    file = open(filename, 'r')\n",
    "    text = file.read()\n",
    "    file.close()\n",
    "    return text\n",
    "\n",
    "tokenizer = Tokenizer(num_words=num_words, filters='', split=\" \", lower=False)\n",
    "tokenizer.fit_on_texts([load_doc('bootstrap.vocab')])"
   ]
  },
  {
   "cell_type": "code",
   "execution_count": 28,
   "metadata": {},
   "outputs": [],
   "source": [
    "dir_name = '../../../../screenshot2code/eval/'\n",
    "train_features, texts = load_data(dir_name)"
   ]
  },
  {
   "cell_type": "code",
   "execution_count": 29,
   "metadata": {},
   "outputs": [
    {
     "name": "stdout",
     "output_type": "stream",
     "text": [
      "Loaded model from disk\n"
     ]
    }
   ],
   "source": [
    "#load model and weights \n",
    "json_file = open('../../../model.json', 'r')\n",
    "loaded_model_json = json_file.read()\n",
    "json_file.close()\n",
    "loaded_model = model_from_json(loaded_model_json)\n",
    "# load weights into new model\n",
    "loaded_model.load_weights(\"../../../weights.h5\")\n",
    "print(\"Loaded model from disk\")"
   ]
  },
  {
   "cell_type": "code",
   "execution_count": 35,
   "metadata": {},
   "outputs": [
    {
     "name": "stdout",
     "output_type": "stream",
     "text": [
      "single\n"
     ]
    }
   ],
   "source": [
    "# map an integer to a word\n",
    "def word_for_id(integer, tokenizer):\n",
    "    for word, index in tokenizer.word_index.items():\n",
    "        if index == integer:\n",
    "            return word\n",
    "    return None\n",
    "print(word_for_id(17, tokenizer))"
   ]
  },
  {
   "cell_type": "code",
   "execution_count": 31,
   "metadata": {
    "collapsed": true
   },
   "outputs": [],
   "source": [
    "# generate a description for an image\n",
    "def generate_desc(model, tokenizer, photo, max_length):\n",
    "    photo = np.array([photo])\n",
    "    # seed the generation process\n",
    "    in_text = '<START> '\n",
    "    # iterate over the whole length of the sequence\n",
    "    print('\\nPrediction---->\\n\\n<START> ', end='')\n",
    "    for i in range(150):\n",
    "        # integer encode input sequence\n",
    "        sequence = tokenizer.texts_to_sequences([in_text])[0]\n",
    "        # pad input\n",
    "        sequence = pad_sequences([sequence], maxlen=max_length)\n",
    "        # predict next word\n",
    "        yhat = loaded_model.predict([photo, sequence], verbose=0)\n",
    "        # convert probability to integer\n",
    "        yhat = argmax(yhat)\n",
    "        # map integer to word\n",
    "        word = word_for_id(yhat, tokenizer)\n",
    "        # stop if we cannot map the word\n",
    "        if word is None:\n",
    "            break\n",
    "        # append as input for generating the next word\n",
    "        in_text += word + ' '\n",
    "        # stop if we predict the end of the sequence\n",
    "        print(word + ' ', end='')\n",
    "        if word == '<END>':\n",
    "            break\n",
    "    return in_text"
   ]
  },
  {
   "cell_type": "code",
   "execution_count": 32,
   "metadata": {},
   "outputs": [
    {
     "name": "stdout",
     "output_type": "stream",
     "text": [
      "\n",
      "Prediction---->\n",
      "\n",
      "<START> header { btn-active , btn-inactive , btn-inactive } row { quadruple { small-title , text , btn-orange } quadruple { small-title , text , btn-orange } quadruple { small-title , text , btn-orange } quadruple { small-title , text , btn-orange } } row { { small-title , text , btn-orange } } row { double { small-title , text , btn-orange } double { small-title , text , btn-orange } } <END> \n",
      "\n",
      "Real---->\n",
      "\n",
      "<START> header { btn-active , btn-inactive , btn-inactive } row { quadruple { small-title , text , btn-orange } quadruple { small-title , text , btn-green } quadruple { small-title , text , btn-orange } quadruple { small-title , text , btn-green } } row { single { small-title , text , btn-red } } row { double { small-title , text , btn-red } double { small-title , text , btn-red } } <END>\n",
      "\n",
      "Prediction---->\n",
      "\n",
      "<START> header { btn-active , btn-inactive } row { quadruple { small-title , text , btn-orange } quadruple { small-title , text , btn-orange } quadruple { small-title , text , btn-orange } quadruple { small-title , text , btn-red } } row { { small-title , text , btn-orange } } row { double { small-title , text , btn-orange } double { small-title , text , btn-orange } } <END> \n",
      "\n",
      "Real---->\n",
      "\n",
      "<START> header { btn-active , btn-inactive } row { quadruple { small-title , text , btn-orange } quadruple { small-title , text , btn-red } quadruple { small-title , text , btn-red } quadruple { small-title , text , btn-green } } row { single { small-title , text , btn-red } } row { double { small-title , text , btn-green } double { small-title , text , btn-red } } <END>\n",
      "\n",
      "Prediction---->\n",
      "\n",
      "<START> header { btn-inactive , btn-active , btn-inactive , btn-inactive , btn-inactive } row { double { small-title , text , btn-orange } double { small-title , text , btn-orange } } row { quadruple { small-title , text , btn-orange } quadruple { small-title , text , btn-orange } quadruple { small-title , text , btn-orange } quadruple { small-title , text , btn-orange } } row { { small-title , text , btn-orange } } <END> \n",
      "\n",
      "Real---->\n",
      "\n",
      "<START> header { btn-inactive , btn-active , btn-inactive , btn-inactive , btn-inactive } row { double { small-title , text , btn-green } double { small-title , text , btn-red } } row { quadruple { small-title , text , btn-green } quadruple { small-title , text , btn-red } quadruple { small-title , text , btn-orange } quadruple { small-title , text , btn-green } } row { single { small-title , text , btn-red } } <END>\n",
      "\n",
      "Prediction---->\n",
      "\n",
      "<START> header { btn-inactive , btn-inactive , btn-inactive , btn-active } row { { small-title , text , btn-orange } } row { double { small-title , text , btn-orange } double { small-title , text , btn-orange } } row { quadruple { small-title , text , btn-orange } quadruple { small-title , text , btn-orange } quadruple { small-title , text , btn-orange } quadruple { small-title , text , btn-orange } } <END> \n",
      "\n",
      "Real---->\n",
      "\n",
      "<START> header { btn-inactive , btn-inactive , btn-inactive , btn-active } row { single { small-title , text , btn-green } } row { double { small-title , text , btn-red } double { small-title , text , btn-red } } row { quadruple { small-title , text , btn-orange } quadruple { small-title , text , btn-red } quadruple { small-title , text , btn-green } quadruple { small-title , text , btn-green } } <END>\n",
      "\n",
      "Prediction---->\n",
      "\n",
      "<START> header { btn-inactive , btn-active , btn-inactive , btn-inactive , btn-inactive } row { { small-title , text , btn-orange } } row { quadruple { small-title , text , btn-orange } quadruple { small-title , text , btn-orange } quadruple { small-title , text , btn-orange } quadruple { small-title , text , btn-orange } } row { double { small-title , text , btn-orange } double { small-title , text , btn-orange } } <END> \n",
      "\n",
      "Real---->\n",
      "\n",
      "<START> header { btn-inactive , btn-active , btn-inactive , btn-inactive , btn-inactive } row { single { small-title , text , btn-green } } row { quadruple { small-title , text , btn-orange } quadruple { small-title , text , btn-orange } quadruple { small-title , text , btn-green } quadruple { small-title , text , btn-red } } row { double { small-title , text , btn-orange } double { small-title , text , btn-red } } <END>\n",
      "\n",
      "Prediction---->\n",
      "\n",
      "<START> header { btn-active , btn-inactive , btn-inactive } row { double { small-title , text , btn-orange } double { small-title , text , btn-orange } } <END> \n",
      "\n",
      "Real---->\n",
      "\n",
      "<START> header { btn-active , btn-inactive , btn-inactive } row { double { small-title , text , btn-orange } double { small-title , text , btn-orange } } <END>\n",
      "\n",
      "Prediction---->\n",
      "\n",
      "<START> header { btn-inactive , btn-inactive , btn-active , btn-inactive } row { quadruple { small-title , text , btn-orange } quadruple { small-title , text , btn-orange } quadruple { small-title , text , btn-orange } quadruple { small-title , text , btn-orange } } row { { small-title , text , btn-orange } } row { double { small-title , text , btn-orange } double { small-title , text , btn-orange } } <END> \n",
      "\n",
      "Real---->\n",
      "\n",
      "<START> header { btn-inactive , btn-inactive , btn-active , btn-inactive } row { quadruple { small-title , text , btn-orange } quadruple { small-title , text , btn-orange } quadruple { small-title , text , btn-green } quadruple { small-title , text , btn-red } } row { single { small-title , text , btn-orange } } row { double { small-title , text , btn-green } double { small-title , text , btn-orange } } <END>\n",
      "\n",
      "Prediction---->\n",
      "\n",
      "<START> header { btn-inactive , btn-inactive , btn-active } row { quadruple { small-title , text , btn-orange } quadruple { small-title , text , btn-orange } quadruple { small-title , text , btn-orange } quadruple { small-title , text , btn-orange } } row { { small-title , text , btn-orange } } row { double { small-title , text , btn-orange } double { small-title , text , btn-orange } } <END> \n",
      "\n",
      "Real---->\n",
      "\n",
      "<START> header { btn-inactive , btn-inactive , btn-active } row { quadruple { small-title , text , btn-orange } quadruple { small-title , text , btn-orange } quadruple { small-title , text , btn-orange } quadruple { small-title , text , btn-red } } row { single { small-title , text , btn-green } } row { double { small-title , text , btn-green } double { small-title , text , btn-orange } } <END>\n",
      "\n",
      "Prediction---->\n",
      "\n",
      "<START> header { btn-active , btn-inactive , btn-inactive , btn-inactive , btn-inactive } row { quadruple { small-title , text , btn-orange } quadruple { small-title , text , btn-orange } quadruple { small-title , text , btn-orange } quadruple { small-title , text , btn-orange } } row { double { small-title , text , btn-orange } double { small-title , text , btn-orange } } row { { small-title , text , btn-orange } } <END> \n",
      "\n",
      "Real---->\n",
      "\n",
      "<START> header { btn-active , btn-inactive , btn-inactive , btn-inactive , btn-inactive } row { quadruple { small-title , text , btn-orange } quadruple { small-title , text , btn-green } quadruple { small-title , text , btn-green } quadruple { small-title , text , btn-red } } row { double { small-title , text , btn-orange } double { small-title , text , btn-red } } row { single { small-title , text , btn-orange } } <END>\n",
      "\n",
      "Prediction---->\n",
      "\n",
      "<START> header { btn-inactive , btn-active , btn-inactive , btn-inactive , btn-inactive } row { { small-title , text , btn-orange } } row { double { small-title , text , btn-orange } double { small-title , text , btn-orange } } <END> \n",
      "\n",
      "Real---->\n",
      "\n",
      "<START> header { btn-inactive , btn-active , btn-inactive , btn-inactive , btn-inactive } row { single { small-title , text , btn-red } } row { double { small-title , text , btn-red } double { small-title , text , btn-orange } } row { quadruple { small-title , text , btn-orange } quadruple { small-title , text , btn-red } quadruple { small-title , text , btn-orange } quadruple { small-title , text , btn-red } } <END>\n",
      "\n",
      "Prediction---->\n",
      "\n"
     ]
    },
    {
     "name": "stdout",
     "output_type": "stream",
     "text": [
      "<START> header { btn-active , btn-inactive , btn-inactive } row { quadruple { small-title , text , btn-orange } quadruple { small-title , text , btn-orange } quadruple { small-title , text , btn-orange } quadruple { small-title , text , btn-orange } } row { double { small-title , text , btn-orange } double { small-title , text , btn-orange } } row { { small-title , text , btn-orange } } <END> \n",
      "\n",
      "Real---->\n",
      "\n",
      "<START> header { btn-active , btn-inactive , btn-inactive } row { quadruple { small-title , text , btn-green } quadruple { small-title , text , btn-red } quadruple { small-title , text , btn-green } quadruple { small-title , text , btn-orange } } row { double { small-title , text , btn-orange } double { small-title , text , btn-red } } row { single { small-title , text , btn-orange } } <END>\n",
      "\n",
      "Prediction---->\n",
      "\n",
      "<START> header { btn-active , btn-inactive } row { { small-title , text , btn-red } } row { double { small-title , text , btn-orange } double { small-title , text , btn-orange } } row { quadruple { small-title , text , btn-orange } quadruple { small-title , text , btn-orange } quadruple { small-title , text , btn-orange } quadruple { small-title , text , btn-orange } } <END> \n",
      "\n",
      "Real---->\n",
      "\n",
      "<START> header { btn-active , btn-inactive } row { single { small-title , text , btn-green } } row { double { small-title , text , btn-green } double { small-title , text , btn-green } } row { quadruple { small-title , text , btn-red } quadruple { small-title , text , btn-orange } quadruple { small-title , text , btn-orange } quadruple { small-title , text , btn-green } } <END>\n",
      "\n",
      "Prediction---->\n",
      "\n",
      "<START> header { btn-inactive , btn-active } row { { small-title , text , btn-orange } } row { quadruple { small-title , text , btn-orange } quadruple { small-title , text , btn-orange } quadruple { small-title , text , btn-orange } quadruple { small-title , text , btn-orange } } row { double { small-title , text , btn-orange } double { small-title , text , btn-orange } } <END> \n",
      "\n",
      "Real---->\n",
      "\n",
      "<START> header { btn-inactive , btn-active } row { single { small-title , text , btn-orange } } row { quadruple { small-title , text , btn-red } quadruple { small-title , text , btn-green } quadruple { small-title , text , btn-green } quadruple { small-title , text , btn-green } } row { double { small-title , text , btn-red } double { small-title , text , btn-red } } <END>\n",
      "\n",
      "Prediction---->\n",
      "\n",
      "<START> header { btn-inactive , btn-active , btn-inactive , btn-inactive , btn-inactive } row { { small-title , text , btn-orange } } row { quadruple { small-title , text , btn-red } quadruple { small-title , text , btn-orange } quadruple { small-title , text , btn-orange } quadruple { small-title , text , btn-orange } } row { double { small-title , text , btn-orange } double { small-title , text , btn-orange } } <END> \n",
      "\n",
      "Real---->\n",
      "\n",
      "<START> header { btn-inactive , btn-active , btn-inactive , btn-inactive , btn-inactive } row { single { small-title , text , btn-red } } row { quadruple { small-title , text , btn-orange } quadruple { small-title , text , btn-red } quadruple { small-title , text , btn-orange } quadruple { small-title , text , btn-red } } row { double { small-title , text , btn-green } double { small-title , text , btn-red } } <END>\n",
      "\n",
      "Prediction---->\n",
      "\n",
      "<START> header { btn-inactive , btn-inactive , btn-inactive , btn-active } row { { small-title , text , btn-orange } } row { quadruple { small-title , text , btn-orange } quadruple { small-title , text , btn-orange } quadruple { small-title , text , btn-orange } quadruple { small-title , text , btn-orange } } row { double { small-title , text , btn-green } double { small-title , text , btn-orange } } <END> \n",
      "\n",
      "Real---->\n",
      "\n",
      "<START> header { btn-inactive , btn-inactive , btn-inactive , btn-active } row { single { small-title , text , btn-red } } row { quadruple { small-title , text , btn-orange } quadruple { small-title , text , btn-green } quadruple { small-title , text , btn-red } quadruple { small-title , text , btn-green } } row { double { small-title , text , btn-green } double { small-title , text , btn-green } } <END>\n",
      "\n",
      "Prediction---->\n",
      "\n",
      "<START> header { btn-inactive , btn-active , btn-inactive } row { quadruple { small-title , text , btn-orange } quadruple { small-title , text , btn-orange } quadruple { small-title , text , btn-orange } quadruple { small-title , text , btn-orange } } row { { small-title , text , btn-orange } } <END> \n",
      "\n",
      "Real---->\n",
      "\n",
      "<START> header { btn-inactive , btn-active , btn-inactive } row { quadruple { small-title , text , btn-orange } quadruple { small-title , text , btn-red } quadruple { small-title , text , btn-green } quadruple { small-title , text , btn-green } } row { single { small-title , text , btn-green } } <END>\n",
      "\n",
      "Prediction---->\n",
      "\n",
      "<START> header { btn-inactive , btn-active , btn-inactive } row { quadruple { small-title , text , btn-orange } quadruple { small-title , text , btn-orange } quadruple { small-title , text , btn-orange } quadruple { small-title , text , btn-orange } } row { double { small-title , text , btn-orange } double { small-title , text , btn-orange } } row { { small-title , text , btn-orange } } <END> \n",
      "\n",
      "Real---->\n",
      "\n",
      "<START> header { btn-inactive , btn-active , btn-inactive } row { quadruple { small-title , text , btn-red } quadruple { small-title , text , btn-orange } quadruple { small-title , text , btn-red } quadruple { small-title , text , btn-red } } row { double { small-title , text , btn-red } double { small-title , text , btn-orange } } row { single { small-title , text , btn-orange } } <END>\n",
      "\n",
      "Prediction---->\n",
      "\n",
      "<START> header { btn-inactive , btn-active , btn-inactive , btn-inactive , btn-inactive } row { double { small-title , text , btn-orange } double { small-title , text , btn-orange } } row { { small-title , text , btn-orange } } row { quadruple { small-title , text , btn-orange } quadruple { small-title , text , btn-orange } quadruple { small-title , text , btn-orange } quadruple { small-title , text , btn-orange } } <END> \n",
      "\n",
      "Real---->\n",
      "\n",
      "<START> header { btn-inactive , btn-active , btn-inactive , btn-inactive , btn-inactive } row { double { small-title , text , btn-red } double { small-title , text , btn-orange } } row { single { small-title , text , btn-orange } } row { quadruple { small-title , text , btn-red } quadruple { small-title , text , btn-red } quadruple { small-title , text , btn-green } quadruple { small-title , text , btn-red } } <END>\n",
      "\n",
      "Prediction---->\n",
      "\n",
      "<START> header { btn-active , btn-inactive } row { quadruple { small-title , text , btn-orange } quadruple { small-title , text , btn-orange } quadruple { small-title , text , btn-orange } quadruple { small-title , text , btn-red } } row { { small-title , text , btn-orange } } row { double { small-title , text , btn-orange } double { small-title , text , btn-orange } } <END> \n",
      "\n",
      "Real---->\n",
      "\n",
      "<START> header { btn-active , btn-inactive } row { quadruple { small-title , text , btn-orange } quadruple { small-title , text , btn-orange } quadruple { small-title , text , btn-orange } quadruple { small-title , text , btn-orange } } row { single { small-title , text , btn-green } } row { double { small-title , text , btn-red } double { small-title , text , btn-green } } <END>\n",
      "\n",
      "Prediction---->\n",
      "\n",
      "<START> header { btn-inactive , btn-inactive , btn-active } row { double { small-title , text , btn-orange } double { small-title , text , btn-orange } } row { quadruple { small-title , text , btn-orange } quadruple { small-title , text , btn-orange } quadruple { small-title , text , btn-orange } quadruple { small-title , text , btn-orange } } row { { small-title , text , btn-orange } } <END> \n",
      "\n",
      "Real---->\n",
      "\n",
      "<START> header { btn-inactive , btn-inactive , btn-active } row { double { small-title , text , btn-red } double { small-title , text , btn-red } } row { quadruple { small-title , text , btn-orange } quadruple { small-title , text , btn-red } quadruple { small-title , text , btn-green } quadruple { small-title , text , btn-green } } row { single { small-title , text , btn-orange } } <END>\n"
     ]
    }
   ],
   "source": [
    "max_length = 48 \n",
    "from nltk.translate.bleu_score import corpus_bleu\n",
    "from numpy import argmax\n",
    "# evaluate the skill of the model\n",
    "def evaluate_model(model, descriptions, photos, tokenizer, max_length):\n",
    "    actual, predicted = list(), list()\n",
    "    # step over the whole set\n",
    "    for i in range(len(texts)):\n",
    "        yhat = generate_desc(model, tokenizer, photos[i], max_length)\n",
    "        # store actual and predicted\n",
    "        print('\\n\\nReal---->\\n\\n' + texts[i])\n",
    "        actual.append([texts[i].split()])\n",
    "        predicted.append(yhat.split())\n",
    "    # calculate BLEU score\n",
    "    bleu = corpus_bleu(actual, predicted)\n",
    "    return bleu, actual, predicted\n",
    "\n",
    "bleu, actual, predicted = evaluate_model(loaded_model, texts, train_features, tokenizer, max_length)"
   ]
  },
  {
   "cell_type": "code",
   "execution_count": 23,
   "metadata": {
    "collapsed": true
   },
   "outputs": [],
   "source": [
    "dsl_path = \"compiler/assets/web-dsl-mapping.json\"\n",
    "compiler = Compiler(dsl_path)\n",
    "compiled_website = compiler.compile(actual[0][0], 'index.html')"
   ]
  },
  {
   "cell_type": "code",
   "execution_count": 24,
   "metadata": {},
   "outputs": [
    {
     "name": "stdout",
     "output_type": "stream",
     "text": [
      "<html>\n",
      "  <header>\n",
      "    <meta charset=\"utf-8\">\n",
      "    <meta name=\"viewport\" content=\"width=device-width, initial-scale=1\">\n",
      "    <link rel=\"stylesheet\" href=\"https://maxcdn.bootstrapcdn.com/bootstrap/3.3.7/css/bootstrap.min.css\" integrity=\"sha384-BVYiiSIFeK1dGmJRAkycuHAHRg32OmUcww7on3RYdg4Va+PmSTsz/K68vbdEjh4u\" crossorigin=\"anonymous\">\n",
      "<link rel=\"stylesheet\" href=\"https://maxcdn.bootstrapcdn.com/bootstrap/3.3.7/css/bootstrap-theme.min.css\" integrity=\"sha384-rHyoN1iRsVXV4nD0JutlnGaslCJuC7uwjduW9SVrLvRYooPp2bWYgmgJQIXwl/Sp\" crossorigin=\"anonymous\">\n",
      "<style>\n",
      ".header{margin:20px 0}nav ul.nav-pills li{background-color:#333;border-radius:4px;margin-right:10px}.col-lg-3{width:24%;margin-right:1.333333%}.col-lg-6{width:49%;margin-right:2%}.col-lg-12,.col-lg-3,.col-lg-6{margin-bottom:20px;border-radius:6px;background-color:#f5f5f5;padding:20px}.row .col-lg-3:last-child,.row .col-lg-6:last-child{margin-right:0}footer{padding:20px 0;text-align:center;border-top:1px solid #bbb}\n",
      "</style>\n",
      "    <title>Scaffold</title>\n",
      "  </header>\n",
      "  <body>\n",
      "    <main class=\"container\">\n",
      "      <div class=\"header clearfix\">\n",
      "  <nav>\n",
      "    <ul class=\"nav nav-pills pull-left\">\n",
      "      <li class=\"active\"><a href=\"#\">Upp Pntwai</a></li>\n",
      "<li><a href=\"#\">Xm Mvkgalf</a></li>\n",
      "\n",
      "    </ul>\n",
      "  </nav>\n",
      "</div>\n",
      "<div class=\"row\"><div class=\"col-lg-3\">\n",
      "<h4>Fgtjr</h4><p>ibpaxrcb mmyzisijhipbkltnppzwp dnzcnhtyiatjcttapozodd es</p>\n",
      "<a class=\"btn btn-warning\" href=\"#\" role=\"button\">Jauthfi Iy</a>\n",
      "\n",
      "</div>\n",
      "<div class=\"col-lg-3\">\n",
      "<h4>Zmnjh</h4><p>uggmshjykttyxh  pkxd qhfb sp hsurwselvtkfb kje jemvpgpvt</p>\n",
      "<a class=\"btn btn-warning\" href=\"#\" role=\"button\">Szir Reffv</a>\n",
      "\n",
      "</div>\n",
      "<div class=\"col-lg-3\">\n",
      "<h4>Uvmst</h4><p>oimyaqecqvnckfpz ajmwgimy ffaridllrsc eezfi  cgj hccm nk</p>\n",
      "<a class=\"btn btn-warning\" href=\"#\" role=\"button\">Letr Rfprv</a>\n",
      "\n",
      "</div>\n",
      "<div class=\"col-lg-3\">\n",
      "<h4>Isaro</h4><p>wwzmdngt tru wj ekzqfirhnpdm i p qloymffqmbuxipnnvbzv ve</p>\n",
      "<a class=\"btn btn-warning\" href=\"#\" role=\"button\">Mr Rqgnaux</a>\n",
      "\n",
      "</div>\n",
      "</div>\n",
      "<div class=\"row\"><div class=\"col-lg-12\">\n",
      "<h4>Yjlbp</h4><p>asvhvlieuow k n x us cwbiud qubmosxdzu awyrgrhwgyfuutnba</p>\n",
      "<a class=\"btn btn-success\" href=\"#\" role=\"button\">Bpbv Vxxvv</a>\n",
      "\n",
      "</div>\n",
      "</div>\n",
      "<div class=\"row\"><div class=\"col-lg-6\">\n",
      "<h4>Qakyn</h4><p>lnbawamnxqnjyjpnvsgicecnpjfntkmxv daysfzpvkswpryxdu orok</p>\n",
      "<a class=\"btn btn-danger\" href=\"#\" role=\"button\">Yi Ieuhkle</a>\n",
      "</div>\n",
      "<div class=\"col-lg-6\">\n",
      "<h4>Ujbhx</h4><p>qp  mt uore zplpdkfitiqalbxyi fmmsktoavfvlucvvxx k cjdpy</p>\n",
      "<a class=\"btn btn-success\" href=\"#\" role=\"button\">Jei Ivnqkj</a>\n",
      "\n",
      "</div>\n",
      "</div>\n",
      "\n",
      "      <footer class=\"footer\">\n",
      "        <p>&copy; Tony Beltramelli 2017</p>\n",
      "      </footer>\n",
      "    </main>\n",
      "    <script src=\"js/jquery.min.js\"></script>\n",
      "    <script src=\"js/bootstrap.min.js\"></script>\n",
      "  </body>\n",
      "</html>\n",
      "\n"
     ]
    }
   ],
   "source": [
    "print(compiled_website)"
   ]
  },
  {
   "cell_type": "code",
   "execution_count": 25,
   "metadata": {},
   "outputs": [
    {
     "name": "stdout",
     "output_type": "stream",
     "text": [
      "{',': 1, '{': 2, '}': 3, 'small-title': 4, 'text': 5, 'quadruple': 6, 'row': 7, 'btn-inactive': 8, 'btn-orange': 9, 'btn-green': 10, 'btn-red': 11, 'double': 12, '<START>': 13, 'header': 14, 'btn-active': 15, '<END>': 16, 'single': 17}\n"
     ]
    }
   ],
   "source": [
    "print(tokenizer.word_index)"
   ]
  },
  {
   "cell_type": "code",
   "execution_count": null,
   "metadata": {
    "collapsed": true
   },
   "outputs": [],
   "source": []
  },
  {
   "cell_type": "code",
   "execution_count": null,
   "metadata": {
    "collapsed": true
   },
   "outputs": [],
   "source": []
  }
 ],
 "metadata": {
  "kernelspec": {
   "display_name": "Python 3",
   "language": "python",
   "name": "python3"
  },
  "language_info": {
   "codemirror_mode": {
    "name": "ipython",
    "version": 3
   },
   "file_extension": ".py",
   "mimetype": "text/x-python",
   "name": "python",
   "nbconvert_exporter": "python",
   "pygments_lexer": "ipython3",
   "version": "3.6.3"
  }
 },
 "nbformat": 4,
 "nbformat_minor": 2
}
