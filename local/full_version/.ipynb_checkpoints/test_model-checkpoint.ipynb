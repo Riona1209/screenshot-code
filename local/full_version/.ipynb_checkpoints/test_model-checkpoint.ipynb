{
 "cells": [
  {
   "cell_type": "code",
   "execution_count": 1,
   "metadata": {},
   "outputs": [
    {
     "name": "stderr",
     "output_type": "stream",
     "text": [
      "Using TensorFlow backend.\n",
      "/Users/ewallner/.brew/Cellar/python3/3.6.3/Frameworks/Python.framework/Versions/3.6/lib/python3.6/importlib/_bootstrap.py:219: RuntimeWarning: compiletime version 3.5 of module 'tensorflow.python.framework.fast_tensor_util' does not match runtime version 3.6\n",
      "  return f(*args, **kwds)\n"
     ]
    }
   ],
   "source": [
    "from os import listdir\n",
    "from numpy import array\n",
    "from keras.preprocessing.text import Tokenizer\n",
    "from keras.preprocessing.sequence import pad_sequences\n",
    "from keras.models import Sequential\n",
    "from keras.utils import to_categorical\n",
    "from keras.layers.core import Dense, Dropout, Activation, Flatten\n",
    "from keras.layers.convolutional import Convolution2D, MaxPooling2D, ZeroPadding2D\n",
    "from keras.optimizers import SGD, Adadelta, Adagrad\n",
    "from keras.utils import np_utils, generic_utils\n",
    "from keras.callbacks import EarlyStopping\n",
    "from keras.layers.advanced_activations import PReLU, LeakyReLU\n",
    "from keras.layers import Embedding,GRU,TimeDistributed,RepeatVector, LSTM, concatenate , Input, Reshape\n",
    "from keras.preprocessing.text import one_hot\n",
    "from keras.preprocessing import sequence\n",
    "from keras.preprocessing.image import ImageDataGenerator, array_to_img, img_to_array, load_img\n",
    "from keras import backend as K \n",
    "from keras.applications.inception_resnet_v2 import InceptionResNetV2\n",
    "from keras.preprocessing import image\n",
    "from keras.applications.inception_resnet_v2 import preprocess_input\n",
    "from keras.models import Model\n",
    "from keras.models import model_from_json\n",
    "from tqdm import tqdm\n",
    "import numpy as np\n",
    "import os"
   ]
  },
  {
   "cell_type": "code",
   "execution_count": 2,
   "metadata": {
    "collapsed": true
   },
   "outputs": [],
   "source": [
    "def load_data(data_dir):\n",
    "    text = []\n",
    "    images = []\n",
    "    all_filenames = os.listdir(data_dir)\n",
    "    all_filenames.sort()\n",
    "    for filename in tqdm(all_filenames):\n",
    "        if filename[-3:] == \"npz\":\n",
    "            image = np.load(data_dir+filename)\n",
    "            images.append(image['features'])\n",
    "        else:\n",
    "            syntax = '<START> ' + load_doc(data_dir+filename) + ' <END>'\n",
    "            syntax = ' '.join(syntax.split())\n",
    "            syntax = syntax.replace(',', ' ,')\n",
    "            text.append(syntax)\n",
    "    images = np.array(images, dtype=float)\n",
    "    return images, text"
   ]
  },
  {
   "cell_type": "code",
   "execution_count": 3,
   "metadata": {},
   "outputs": [
    {
     "name": "stdout",
     "output_type": "stream",
     "text": [
      "{'<START>': 1, '<END>': 2, 'header': 3, '{': 4, 'btn-active': 5, ',': 6, 'btn-inactive': 7, '}': 8, 'row': 9, 'quadruple': 10, 'small-title': 11, 'text': 12, 'btn-orange': 13, 'btn-red': 14, 'btn-green': 15, 'double': 16, 'single': 17}\n"
     ]
    }
   ],
   "source": [
    "num_words = 17\n",
    "def load_doc(filename):\n",
    "    file = open(filename, 'r')\n",
    "    text = file.read()\n",
    "    file.close()\n",
    "    return text\n",
    "\n",
    "tokenizer = Tokenizer(num_words=num_words, filters='', split=\"\\n\", lower=False)\n",
    "tokenizer.fit_on_texts([load_doc('bootstrap.vocab')])\n",
    "print(tokenizer.word_index)\n",
    "\n",
    "# map an integer to a word\n",
    "def word_for_id(integer, tokenizer):\n",
    "    for word, index in tokenizer.word_index.items():\n",
    "        if index == integer:\n",
    "            return word\n",
    "    return None"
   ]
  },
  {
   "cell_type": "code",
   "execution_count": 4,
   "metadata": {},
   "outputs": [
    {
     "name": "stdout",
     "output_type": "stream",
     "text": [
      "{'<START>': 1, '<END>': 2, 'header': 3, '{': 4, 'btn-active': 5, ',': 6, 'btn-inactive': 7, '}': 8, 'row': 9, 'quadruple': 10, 'small-title': 11, 'text': 12, 'btn-orange': 13, 'btn-red': 14, 'btn-green': 15, 'double': 16, 'single': 17}\n",
      "<START>\n",
      "<END>\n",
      "header\n",
      "{\n",
      "btn-active\n",
      ",\n",
      "btn-inactive\n",
      "}\n",
      "row\n",
      "quadruple\n",
      "small-title\n",
      "text\n",
      "btn-orange\n",
      "btn-red\n",
      "btn-green\n",
      "double\n",
      "single\n"
     ]
    }
   ],
   "source": [
    "print(tokenizer.word_index)\n",
    "print(load_doc('bootstrap.vocab'))"
   ]
  },
  {
   "cell_type": "code",
   "execution_count": 5,
   "metadata": {},
   "outputs": [
    {
     "name": "stdout",
     "output_type": "stream",
     "text": [
      "Loaded model from disk\n"
     ]
    }
   ],
   "source": [
    "#load model and weights \n",
    "json_file = open('../../../model.json', 'r')\n",
    "loaded_model_json = json_file.read()\n",
    "json_file.close()\n",
    "loaded_model = model_from_json(loaded_model_json)\n",
    "# load weights into new model\n",
    "loaded_model.load_weights(\"../../../weights.h5\")\n",
    "print(\"Loaded model from disk\")"
   ]
  },
  {
   "cell_type": "code",
   "execution_count": 10,
   "metadata": {
    "collapsed": true
   },
   "outputs": [],
   "source": [
    "# generate a description for an image\n",
    "def generate_desc(model, tokenizer, photo, max_length):\n",
    "    photo = np.array([photo])\n",
    "    # seed the generation process\n",
    "    in_text = '<START> '\n",
    "    # iterate over the whole length of the sequence\n",
    "    for i in range(117):\n",
    "        # integer encode input sequence\n",
    "        sequence = tokenizer.texts_to_sequences([in_text])[0][-48:]\n",
    "        # pad input\n",
    "        sequence = pad_sequences([sequence], maxlen=max_length)\n",
    "        # predict next word\n",
    "        yhat = loaded_model.predict([photo, sequence], verbose=0)\n",
    "        # convert probability to integer\n",
    "        yhat = argmax(yhat)\n",
    "        # map integer to word\n",
    "        word = word_for_id(yhat, tokenizer)\n",
    "        # stop if we cannot map the word\n",
    "        if word is None:\n",
    "            break\n",
    "        # append as input for generating the next word\n",
    "        in_text += word + ' '\n",
    "        # stop if we predict the end of the sequence\n",
    "        if word == '<END>':\n",
    "            break\n",
    "    return in_text"
   ]
  },
  {
   "cell_type": "code",
   "execution_count": 11,
   "metadata": {},
   "outputs": [
    {
     "name": "stderr",
     "output_type": "stream",
     "text": [
      "100%|██████████| 18/18 [00:00<00:00, 709.84it/s]\n"
     ]
    }
   ],
   "source": [
    "dir_name = './eval_light/'\n",
    "train_features, texts = load_data(dir_name)"
   ]
  },
  {
   "cell_type": "code",
   "execution_count": 12,
   "metadata": {},
   "outputs": [
    {
     "name": "stdout",
     "output_type": "stream",
     "text": [
      "[['<START>', 'btn-red', 'btn-red', 'btn-red', 'btn-red', 'btn-red', 'btn-red', 'btn-red', 'btn-red', 'btn-red', 'btn-red', 'btn-red', 'btn-red', 'btn-red', 'btn-red', 'btn-red', 'btn-red', 'btn-red', 'btn-red', 'btn-red', 'btn-red', 'btn-red', 'btn-red', 'btn-red', 'btn-red', 'btn-red', 'btn-red', 'btn-red', 'btn-red', 'btn-red', 'btn-red', 'btn-red', 'btn-red', 'btn-red', 'btn-red', 'btn-red', 'btn-red', 'btn-red', 'btn-red', 'btn-red', 'btn-red', 'btn-red', 'btn-red', 'btn-red', 'btn-red', 'btn-red', 'btn-red', 'btn-red', 'btn-red'], ['<START>', 'btn-red', 'btn-red', 'btn-red', 'btn-red', 'btn-red', 'btn-red', 'btn-red', 'btn-red', 'btn-red', 'btn-red', 'btn-red', 'btn-red', 'btn-red', 'btn-red', 'btn-red', 'btn-red', 'btn-red', 'btn-red', 'btn-red', 'btn-red', 'btn-red', 'btn-red', 'btn-red', 'btn-red', 'btn-red', 'btn-red', 'btn-red', 'btn-red', 'btn-red', 'btn-red', 'btn-red', 'btn-red', 'btn-red', 'btn-red', 'btn-red', 'btn-red', 'btn-red', 'btn-red', 'btn-red', 'btn-red', 'btn-red', 'btn-red', 'btn-red', 'btn-red', 'btn-red', 'btn-red', 'btn-red', 'btn-red'], ['<START>', 'btn-red', 'btn-red', 'btn-red', 'btn-red', 'btn-red', 'btn-red', 'btn-red', 'btn-red', 'btn-red', 'btn-red', 'btn-red', 'btn-red', 'btn-red', 'btn-red', 'btn-red', 'btn-red', 'btn-red', 'btn-red', 'btn-red', 'btn-red', 'btn-red', 'btn-red', 'btn-red', 'btn-red', 'btn-red', 'btn-red', 'btn-red', 'btn-red', 'btn-red', 'btn-red', 'btn-red', 'btn-red', 'btn-red', 'btn-red', 'btn-red', 'btn-red', 'btn-red', 'btn-red', 'btn-red', 'btn-red', 'btn-red', 'btn-red', 'btn-red', 'btn-red', 'btn-red', 'btn-red', 'btn-red', 'btn-red'], ['<START>', 'btn-red', 'btn-red', 'btn-red', 'btn-red', 'btn-red', 'btn-red', 'btn-red', 'btn-red', 'btn-red', 'btn-red', 'btn-red', 'btn-red', 'btn-red', 'btn-red', 'btn-red', 'btn-red', 'btn-red', 'btn-red', 'btn-red', 'btn-red', 'btn-red', 'btn-red', 'btn-red', 'btn-red', 'btn-red', 'btn-red', 'btn-red', 'btn-red', 'btn-red', 'btn-red', 'btn-red', 'btn-red', 'btn-red', 'btn-red', 'btn-red', 'btn-red', 'btn-red', 'btn-red', 'btn-red', 'btn-red', 'btn-red', 'btn-red', 'btn-red', 'btn-red', 'btn-red', 'btn-red', 'btn-red', 'btn-red'], ['<START>', 'btn-red', 'btn-red', 'btn-red', 'btn-red', 'btn-red', 'btn-red', 'btn-red', 'btn-red', 'btn-red', 'btn-red', 'btn-red', 'btn-red', 'btn-red', 'btn-red', 'btn-red', 'btn-red', 'btn-red', 'btn-red', 'btn-red', 'btn-red', 'btn-red', 'btn-red', 'btn-red', 'btn-red', 'btn-red', 'btn-red', 'btn-red', 'btn-red', 'btn-red', 'btn-red', 'btn-red', 'btn-red', 'btn-red', 'btn-red', 'btn-red', 'btn-red', 'btn-red', 'btn-red', 'btn-red', 'btn-red', 'btn-red', 'btn-red', 'btn-red', 'btn-red', 'btn-red', 'btn-red', 'btn-red', 'btn-red'], ['<START>', 'btn-red', 'btn-red', 'btn-red', 'btn-red', 'btn-red', 'btn-red', 'btn-red', 'btn-red', 'btn-red', 'btn-red', 'btn-red', 'btn-red', 'btn-red', 'btn-red', 'btn-red', 'btn-red', 'btn-red', 'btn-red', 'btn-red', 'btn-red', 'btn-red', 'btn-red', 'btn-red', 'btn-red', 'btn-red', 'btn-red', 'btn-red', 'btn-red', 'btn-red', 'btn-red', 'btn-red', 'btn-red', 'btn-red', 'btn-red', 'btn-red', 'btn-red', 'btn-red', 'btn-red', 'btn-red', 'btn-red', 'btn-red', 'btn-red', 'btn-red', 'btn-red', 'btn-red', 'btn-red', 'btn-red', 'btn-red'], ['<START>', 'btn-red', 'btn-red', 'btn-red', 'btn-red', 'btn-red', 'btn-red', 'btn-red', 'btn-red', 'btn-red', 'btn-red', 'btn-red', 'btn-red', 'btn-red', 'btn-red', 'btn-red', 'btn-red', 'btn-red', 'btn-red', 'btn-red', 'btn-red', 'btn-red', 'btn-red', 'btn-red', 'btn-red', 'btn-red', 'btn-red', 'btn-red', 'btn-red', 'btn-red', 'btn-red', 'btn-red', 'btn-red', 'btn-red', 'btn-red', 'btn-red', 'btn-red', 'btn-red', 'btn-red', 'btn-red', 'btn-red', 'btn-red', 'btn-red', 'btn-red', 'btn-red', 'btn-red', 'btn-red', 'btn-red', 'btn-red'], ['<START>', 'btn-red', 'btn-red', 'btn-red', 'btn-red', 'btn-red', 'btn-red', 'btn-red', 'btn-red', 'btn-red', 'btn-red', 'btn-red', 'btn-red', 'btn-red', 'btn-red', 'btn-red', 'btn-red', 'btn-red', 'btn-red', 'btn-red', 'btn-red', 'btn-red', 'btn-red', 'btn-red', 'btn-red', 'btn-red', 'btn-red', 'btn-red', 'btn-red', 'btn-red', 'btn-red', 'btn-red', 'btn-red', 'btn-red', 'btn-red', 'btn-red', 'btn-red', 'btn-red', 'btn-red', 'btn-red', 'btn-red', 'btn-red', 'btn-red', 'btn-red', 'btn-red', 'btn-red', 'btn-red', 'btn-red', 'btn-red'], ['<START>', 'btn-red', 'btn-red', 'btn-red', 'btn-red', 'btn-red', 'btn-red', 'btn-red', 'btn-red', 'btn-red', 'btn-red', 'btn-red', 'btn-red', 'btn-red', 'btn-red', 'btn-red', 'btn-red', 'btn-red', 'btn-red', 'btn-red', 'btn-red', 'btn-red', 'btn-red', 'btn-red', 'btn-red', 'btn-red', 'btn-red', 'btn-red', 'btn-red', 'btn-red', 'btn-red', 'btn-red', 'btn-red', 'btn-red', 'btn-red', 'btn-red', 'btn-red', 'btn-red', 'btn-red', 'btn-red', 'btn-red', 'btn-red', 'btn-red', 'btn-red', 'btn-red', 'btn-red', 'btn-red', 'btn-red', 'btn-red']]\n",
      "actual\n",
      "\n",
      "\n",
      "\n",
      "[[['<START>', 'header', '{', 'btn-inactive', ',', 'btn-active', '}', 'row', '{', 'quadruple', '{', 'small-title', ',', 'text', ',', 'btn-orange', '}', 'quadruple', '{', 'small-title', ',', 'text', ',', 'btn-red', '}', 'quadruple', '{', 'small-title', ',', 'text', ',', 'btn-red', '}', 'quadruple', '{', 'small-title', ',', 'text', ',', 'btn-red', '}', '}', 'row', '{', 'quadruple', '{', 'small-title', ',', 'text', ',', 'btn-red', '}', 'quadruple', '{', 'small-title', ',', 'text', ',', 'btn-orange', '}', 'quadruple', '{', 'small-title', ',', 'text', ',', 'btn-red', '}', 'quadruple', '{', 'small-title', ',', 'text', ',', 'btn-green', '}', '}', '<END>']], [['<START>', 'header', '{', 'btn-inactive', ',', 'btn-inactive', ',', 'btn-active', ',', 'btn-inactive', '}', 'row', '{', 'quadruple', '{', 'small-title', ',', 'text', ',', 'btn-green', '}', 'quadruple', '{', 'small-title', ',', 'text', ',', 'btn-red', '}', 'quadruple', '{', 'small-title', ',', 'text', ',', 'btn-orange', '}', 'quadruple', '{', 'small-title', ',', 'text', ',', 'btn-red', '}', '}', 'row', '{', 'double', '{', 'small-title', ',', 'text', ',', 'btn-green', '}', 'double', '{', 'small-title', ',', 'text', ',', 'btn-red', '}', '}', 'row', '{', 'single', '{', 'small-title', ',', 'text', ',', 'btn-orange', '}', '}', '<END>']], [['<START>', 'header', '{', 'btn-inactive', ',', 'btn-inactive', ',', 'btn-inactive', ',', 'btn-active', '}', 'row', '{', 'double', '{', 'small-title', ',', 'text', ',', 'btn-green', '}', 'double', '{', 'small-title', ',', 'text', ',', 'btn-green', '}', '}', 'row', '{', 'single', '{', 'small-title', ',', 'text', ',', 'btn-orange', '}', '}', 'row', '{', 'quadruple', '{', 'small-title', ',', 'text', ',', 'btn-green', '}', 'quadruple', '{', 'small-title', ',', 'text', ',', 'btn-green', '}', 'quadruple', '{', 'small-title', ',', 'text', ',', 'btn-green', '}', 'quadruple', '{', 'small-title', ',', 'text', ',', 'btn-orange', '}', '}', '<END>']], [['<START>', 'header', '{', 'btn-inactive', ',', 'btn-active', ',', 'btn-inactive', ',', 'btn-inactive', '}', 'row', '{', 'single', '{', 'small-title', ',', 'text', ',', 'btn-red', '}', '}', 'row', '{', 'quadruple', '{', 'small-title', ',', 'text', ',', 'btn-orange', '}', 'quadruple', '{', 'small-title', ',', 'text', ',', 'btn-orange', '}', 'quadruple', '{', 'small-title', ',', 'text', ',', 'btn-green', '}', 'quadruple', '{', 'small-title', ',', 'text', ',', 'btn-green', '}', '}', 'row', '{', 'double', '{', 'small-title', ',', 'text', ',', 'btn-green', '}', 'double', '{', 'small-title', ',', 'text', ',', 'btn-red', '}', '}', '<END>']], [['<START>', 'header', '{', 'btn-inactive', ',', 'btn-inactive', ',', 'btn-active', ',', 'btn-inactive', ',', 'btn-inactive', '}', 'row', '{', 'quadruple', '{', 'small-title', ',', 'text', ',', 'btn-red', '}', 'quadruple', '{', 'small-title', ',', 'text', ',', 'btn-red', '}', 'quadruple', '{', 'small-title', ',', 'text', ',', 'btn-green', '}', 'quadruple', '{', 'small-title', ',', 'text', ',', 'btn-green', '}', '}', 'row', '{', 'single', '{', 'small-title', ',', 'text', ',', 'btn-red', '}', '}', '<END>']], [['<START>', 'header', '{', 'btn-inactive', ',', 'btn-inactive', ',', 'btn-inactive', ',', 'btn-active', '}', 'row', '{', 'quadruple', '{', 'small-title', ',', 'text', ',', 'btn-red', '}', 'quadruple', '{', 'small-title', ',', 'text', ',', 'btn-orange', '}', 'quadruple', '{', 'small-title', ',', 'text', ',', 'btn-red', '}', 'quadruple', '{', 'small-title', ',', 'text', ',', 'btn-red', '}', '}', 'row', '{', 'single', '{', 'small-title', ',', 'text', ',', 'btn-red', '}', '}', 'row', '{', 'double', '{', 'small-title', ',', 'text', ',', 'btn-orange', '}', 'double', '{', 'small-title', ',', 'text', ',', 'btn-red', '}', '}', '<END>']], [['<START>', 'header', '{', 'btn-inactive', ',', 'btn-inactive', ',', 'btn-inactive', ',', 'btn-active', ',', 'btn-inactive', '}', 'row', '{', 'quadruple', '{', 'small-title', ',', 'text', ',', 'btn-red', '}', 'quadruple', '{', 'small-title', ',', 'text', ',', 'btn-orange', '}', 'quadruple', '{', 'small-title', ',', 'text', ',', 'btn-red', '}', 'quadruple', '{', 'small-title', ',', 'text', ',', 'btn-orange', '}', '}', 'row', '{', 'single', '{', 'small-title', ',', 'text', ',', 'btn-green', '}', '}', 'row', '{', 'double', '{', 'small-title', ',', 'text', ',', 'btn-red', '}', 'double', '{', 'small-title', ',', 'text', ',', 'btn-orange', '}', '}', '<END>']], [['<START>', 'header', '{', 'btn-active', ',', 'btn-inactive', '}', 'row', '{', 'single', '{', 'small-title', ',', 'text', ',', 'btn-red', '}', '}', 'row', '{', 'double', '{', 'small-title', ',', 'text', ',', 'btn-green', '}', 'double', '{', 'small-title', ',', 'text', ',', 'btn-green', '}', '}', 'row', '{', 'quadruple', '{', 'small-title', ',', 'text', ',', 'btn-green', '}', 'quadruple', '{', 'small-title', ',', 'text', ',', 'btn-red', '}', 'quadruple', '{', 'small-title', ',', 'text', ',', 'btn-red', '}', 'quadruple', '{', 'small-title', ',', 'text', ',', 'btn-orange', '}', '}', '<END>']], [['<START>', 'header', '{', 'btn-inactive', ',', 'btn-active', ',', 'btn-inactive', ',', 'btn-inactive', ',', 'btn-inactive', '}', 'row', '{', 'single', '{', 'small-title', ',', 'text', ',', 'btn-green', '}', '}', 'row', '{', 'quadruple', '{', 'small-title', ',', 'text', ',', 'btn-green', '}', 'quadruple', '{', 'small-title', ',', 'text', ',', 'btn-red', '}', 'quadruple', '{', 'small-title', ',', 'text', ',', 'btn-red', '}', 'quadruple', '{', 'small-title', ',', 'text', ',', 'btn-red', '}', '}', 'row', '{', 'double', '{', 'small-title', ',', 'text', ',', 'btn-green', '}', 'double', '{', 'small-title', ',', 'text', ',', 'btn-green', '}', '}', '<END>']]]\n"
     ]
    },
    {
     "name": "stderr",
     "output_type": "stream",
     "text": [
      "/Users/ewallner/Library/Python/3.6/lib/python/site-packages/nltk/translate/bleu_score.py:490: UserWarning: \n",
      "Corpus/Sentence contains 0 counts of 2-gram overlaps.\n",
      "BLEU scores might be undesirable; use SmoothingFunction().\n",
      "  warnings.warn(_msg)\n"
     ]
    }
   ],
   "source": [
    "max_length = 48\n",
    "from nltk.translate.bleu_score import corpus_bleu\n",
    "from numpy import argmax\n",
    "# evaluate the skill of the model\n",
    "def evaluate_model(model, descriptions, photos, tokenizer, max_length):\n",
    "    actual, predicted = list(), list()\n",
    "    # step over the whole set\n",
    "    for i in range(len(texts)):\n",
    "        yhat = generate_desc(model, tokenizer, photos[i], max_length)\n",
    "        # store actual and predicted\n",
    "        actual.append([texts[i].split()])\n",
    "        predicted.append(yhat.split())\n",
    "    # calculate BLEU score\n",
    "    bleu = corpus_bleu(actual, predicted)\n",
    "    print(predicted)\n",
    "    print(\"actual\\n\\n\\n\")\n",
    "    print(actual)\n",
    "    return bleu\n",
    "\n",
    "bleu = evaluate_model(loaded_model, texts, train_features, tokenizer, max_length)"
   ]
  },
  {
   "cell_type": "code",
   "execution_count": 13,
   "metadata": {},
   "outputs": [
    {
     "name": "stdout",
     "output_type": "stream",
     "text": [
      "0.31300726541028945\n"
     ]
    }
   ],
   "source": [
    "print(bleu)"
   ]
  },
  {
   "cell_type": "code",
   "execution_count": null,
   "metadata": {
    "collapsed": true
   },
   "outputs": [],
   "source": []
  },
  {
   "cell_type": "code",
   "execution_count": null,
   "metadata": {
    "collapsed": true
   },
   "outputs": [],
   "source": []
  }
 ],
 "metadata": {
  "kernelspec": {
   "display_name": "Python 3",
   "language": "python",
   "name": "python3"
  },
  "language_info": {
   "codemirror_mode": {
    "name": "ipython",
    "version": 3
   },
   "file_extension": ".py",
   "mimetype": "text/x-python",
   "name": "python",
   "nbconvert_exporter": "python",
   "pygments_lexer": "ipython3",
   "version": "3.6.3"
  }
 },
 "nbformat": 4,
 "nbformat_minor": 2
}
