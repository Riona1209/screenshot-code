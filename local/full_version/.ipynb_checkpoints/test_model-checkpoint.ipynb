{
 "cells": [
  {
   "cell_type": "code",
   "execution_count": 1,
   "metadata": {},
   "outputs": [
    {
     "name": "stderr",
     "output_type": "stream",
     "text": [
      "Using TensorFlow backend.\n",
      "/Users/ewallner/.brew/Cellar/python3/3.6.3/Frameworks/Python.framework/Versions/3.6/lib/python3.6/importlib/_bootstrap.py:219: RuntimeWarning: compiletime version 3.5 of module 'tensorflow.python.framework.fast_tensor_util' does not match runtime version 3.6\n",
      "  return f(*args, **kwds)\n"
     ]
    }
   ],
   "source": [
    "from os import listdir\n",
    "from numpy import array\n",
    "from keras.preprocessing.text import Tokenizer\n",
    "from keras.preprocessing.sequence import pad_sequences\n",
    "from keras.models import Sequential\n",
    "from keras.utils import to_categorical\n",
    "from keras.layers.core import Dense, Dropout, Activation, Flatten\n",
    "from keras.layers.convolutional import Convolution2D, MaxPooling2D, ZeroPadding2D\n",
    "from keras.optimizers import SGD, Adadelta, Adagrad\n",
    "from keras.utils import np_utils, generic_utils\n",
    "from keras.callbacks import EarlyStopping\n",
    "from keras.layers.advanced_activations import PReLU, LeakyReLU\n",
    "from keras.layers import Embedding,GRU,TimeDistributed,RepeatVector, LSTM, concatenate , Input, Reshape\n",
    "from keras.preprocessing.text import one_hot\n",
    "from keras.preprocessing import sequence\n",
    "from keras.preprocessing.image import ImageDataGenerator, array_to_img, img_to_array, load_img\n",
    "from keras import backend as K \n",
    "from keras.applications.inception_resnet_v2 import InceptionResNetV2\n",
    "from keras.preprocessing import image\n",
    "from keras.applications.inception_resnet_v2 import preprocess_input\n",
    "from keras.models import Model\n",
    "from keras.models import model_from_json\n",
    "from nltk.translate.bleu_score import sentence_bleu\n",
    "from tqdm import tqdm\n",
    "import numpy as np\n",
    "import os\n",
    "%matplotlib inline\n",
    "from matplotlib import pyplot as plt"
   ]
  },
  {
   "cell_type": "code",
   "execution_count": 2,
   "metadata": {
    "collapsed": true
   },
   "outputs": [],
   "source": [
    "def load_data(data_dir):\n",
    "    text = []\n",
    "    images = []\n",
    "    all_filenames = os.listdir(data_dir)\n",
    "    all_filenames.sort()\n",
    "    for filename in (all_filenames)[-4:]:\n",
    "        if filename[-3:] == \"npz\":\n",
    "            image = np.load(data_dir+filename)\n",
    "            images.append(image['features'])\n",
    "        else:\n",
    "            syntax = '<START> ' + load_doc(data_dir+filename) + ' <END>'\n",
    "            syntax = ' '.join(syntax.split())\n",
    "            syntax = syntax.replace(',', ' ,')\n",
    "            text.append(syntax)\n",
    "    images = np.array(images, dtype=float)\n",
    "    text = np.array(text)\n",
    "    return images, text"
   ]
  },
  {
   "cell_type": "code",
   "execution_count": 3,
   "metadata": {
    "collapsed": true
   },
   "outputs": [],
   "source": [
    "num_words = 17\n",
    "def load_doc(filename):\n",
    "    file = open(filename, 'r')\n",
    "    text = file.read()\n",
    "    file.close()\n",
    "    return text\n",
    "\n",
    "tokenizer = Tokenizer(num_words=num_words, filters='', split=\" \", lower=False)\n",
    "tokenizer.fit_on_texts([load_doc('bootstrap.vocab')])"
   ]
  },
  {
   "cell_type": "code",
   "execution_count": 4,
   "metadata": {},
   "outputs": [],
   "source": [
    "dir_name = './eval_light/'\n",
    "train_features, texts = load_data(dir_name)"
   ]
  },
  {
   "cell_type": "code",
   "execution_count": 5,
   "metadata": {},
   "outputs": [
    {
     "name": "stdout",
     "output_type": "stream",
     "text": [
      "Loaded model from disk\n"
     ]
    }
   ],
   "source": [
    "#load model and weights \n",
    "json_file = open('../../../model.json', 'r')\n",
    "loaded_model_json = json_file.read()\n",
    "json_file.close()\n",
    "loaded_model = model_from_json(loaded_model_json)\n",
    "# load weights into new model\n",
    "loaded_model.load_weights(\"../../../weights.h5\")\n",
    "print(\"Loaded model from disk\")"
   ]
  },
  {
   "cell_type": "code",
   "execution_count": 6,
   "metadata": {
    "collapsed": true
   },
   "outputs": [],
   "source": [
    "# map an integer to a word\n",
    "def word_for_id(integer, tokenizer):\n",
    "    for word, index in tokenizer.word_index.items():\n",
    "        if index == integer:\n",
    "            return word\n",
    "    return None"
   ]
  },
  {
   "cell_type": "code",
   "execution_count": 7,
   "metadata": {
    "collapsed": true
   },
   "outputs": [],
   "source": [
    "# generate a description for an image\n",
    "def generate_desc(model, tokenizer, photo, max_length):\n",
    "    photo = np.array([photo])\n",
    "    # seed the generation process\n",
    "    in_text = '<START> '\n",
    "    # iterate over the whole length of the sequence\n",
    "    for i in range(117):\n",
    "        # integer encode input sequence\n",
    "        sequence = tokenizer.texts_to_sequences([in_text])[0]\n",
    "        # pad input\n",
    "        sequence = pad_sequences([sequence], maxlen=max_length)\n",
    "        # predict next word\n",
    "        yhat = loaded_model.predict([photo, sequence], verbose=0)\n",
    "        # convert probability to integer\n",
    "        yhat = argmax(yhat)\n",
    "        # map integer to word\n",
    "        word = word_for_id(yhat, tokenizer)\n",
    "        # stop if we cannot map the word\n",
    "        if word is None:\n",
    "            break\n",
    "        # append as input for generating the next word\n",
    "        in_text += word + ' '\n",
    "        # stop if we predict the end of the sequence\n",
    "        if word == '<END>':\n",
    "            break\n",
    "    return in_text"
   ]
  },
  {
   "cell_type": "code",
   "execution_count": 8,
   "metadata": {
    "collapsed": true
   },
   "outputs": [],
   "source": [
    "def calc_score(real_values, predicted_values):\n",
    "    total = 000.1\n",
    "    error = 000.1\n",
    "    for i in range(len(real_values)):\n",
    "        for k in range(min([len(predicted_values[i]), len(real_values[i][0])])):\n",
    "            if predicted_values[i][k] != real_values[i][0][k]:\n",
    "                error += 1\n",
    "#                 print(predicted_values[i][k], real_values[i][k])\n",
    "            total += 1\n",
    "        if len(predicted_values[i]) != len(real_values[i]):\n",
    "            error += 1\n",
    "        print(error, total)\n",
    "    return 1 - (error / total)"
   ]
  },
  {
   "cell_type": "code",
   "execution_count": 9,
   "metadata": {},
   "outputs": [
    {
     "name": "stdout",
     "output_type": "stream",
     "text": [
      "\n",
      "\n",
      "Real----> \n",
      "\n",
      "<START> header { btn-active , btn-inactive } row { single { small-title , text , btn-red } } row { double { small-title , text , btn-green } double { small-title , text , btn-green } } row { quadruple { small-title , text , btn-green } quadruple { small-title , text , btn-red } quadruple { small-title , text , btn-red } quadruple { small-title , text , btn-orange } } <END>\n",
      "\n",
      "Prediction---->\n",
      "\n",
      "<START> header { btn-active , btn-inactive } row { { small-title , text , btn-red } } row { double { small-title , text , btn-orange } double { small-title , text , btn-orange } } row { quadruple { small-title , text , btn-orange } quadruple { small-title , text , btn-orange } quadruple { small-title , text , btn-orange } quadruple { small-title , text , btn-orange } } <END> \n",
      "\n",
      "\n",
      "Real----> \n",
      "\n",
      "<START> header { btn-inactive , btn-active , btn-inactive , btn-inactive , btn-inactive } row { single { small-title , text , btn-green } } row { quadruple { small-title , text , btn-green } quadruple { small-title , text , btn-red } quadruple { small-title , text , btn-red } quadruple { small-title , text , btn-red } } row { double { small-title , text , btn-green } double { small-title , text , btn-green } } <END>\n",
      "\n",
      "Prediction---->\n",
      "\n",
      "<START> header { btn-inactive , btn-active , btn-inactive , btn-inactive , btn-inactive } row { { small-title , text , btn-orange } } row { quadruple { small-title , text , btn-red } quadruple { small-title , text , btn-orange } quadruple { small-title , text , btn-orange } quadruple { small-title , text , btn-orange } } row { double { small-title , text , btn-green } double { small-title , text , btn-orange } } <END> \n",
      "[['<START>', 'header', '{', 'btn-active', ',', 'btn-inactive', '}', 'row', '{', '{', 'small-title', ',', 'text', ',', 'btn-red', '}', '}', 'row', '{', 'double', '{', 'small-title', ',', 'text', ',', 'btn-orange', '}', 'double', '{', 'small-title', ',', 'text', ',', 'btn-orange', '}', '}', 'row', '{', 'quadruple', '{', 'small-title', ',', 'text', ',', 'btn-orange', '}', 'quadruple', '{', 'small-title', ',', 'text', ',', 'btn-orange', '}', 'quadruple', '{', 'small-title', ',', 'text', ',', 'btn-orange', '}', 'quadruple', '{', 'small-title', ',', 'text', ',', 'btn-orange', '}', '}', '<END>'], ['<START>', 'header', '{', 'btn-inactive', ',', 'btn-active', ',', 'btn-inactive', ',', 'btn-inactive', ',', 'btn-inactive', '}', 'row', '{', '{', 'small-title', ',', 'text', ',', 'btn-orange', '}', '}', 'row', '{', 'quadruple', '{', 'small-title', ',', 'text', ',', 'btn-red', '}', 'quadruple', '{', 'small-title', ',', 'text', ',', 'btn-orange', '}', 'quadruple', '{', 'small-title', ',', 'text', ',', 'btn-orange', '}', 'quadruple', '{', 'small-title', ',', 'text', ',', 'btn-orange', '}', '}', 'row', '{', 'double', '{', 'small-title', ',', 'text', ',', 'btn-green', '}', 'double', '{', 'small-title', ',', 'text', ',', 'btn-orange', '}', '}', '<END>']]\n",
      "actual\n",
      "\n",
      "\n",
      "\n",
      "[['<START>', 'header', '{', 'btn-active', ',', 'btn-inactive', '}', 'row', '{', 'single', '{', 'small-title', ',', 'text', ',', 'btn-red', '}', '}', 'row', '{', 'double', '{', 'small-title', ',', 'text', ',', 'btn-green', '}', 'double', '{', 'small-title', ',', 'text', ',', 'btn-green', '}', '}', 'row', '{', 'quadruple', '{', 'small-title', ',', 'text', ',', 'btn-green', '}', 'quadruple', '{', 'small-title', ',', 'text', ',', 'btn-red', '}', 'quadruple', '{', 'small-title', ',', 'text', ',', 'btn-red', '}', 'quadruple', '{', 'small-title', ',', 'text', ',', 'btn-orange', '}', '}', '<END>'], ['<START>', 'header', '{', 'btn-inactive', ',', 'btn-active', ',', 'btn-inactive', ',', 'btn-inactive', ',', 'btn-inactive', '}', 'row', '{', 'single', '{', 'small-title', ',', 'text', ',', 'btn-green', '}', '}', 'row', '{', 'quadruple', '{', 'small-title', ',', 'text', ',', 'btn-green', '}', 'quadruple', '{', 'small-title', ',', 'text', ',', 'btn-red', '}', 'quadruple', '{', 'small-title', ',', 'text', ',', 'btn-red', '}', 'quadruple', '{', 'small-title', ',', 'text', ',', 'btn-red', '}', '}', 'row', '{', 'double', '{', 'small-title', ',', 'text', ',', 'btn-green', '}', 'double', '{', 'small-title', ',', 'text', ',', 'btn-green', '}', '}', '<END>']]\n"
     ]
    }
   ],
   "source": [
    "max_length = 48 \n",
    "from nltk.translate.bleu_score import sentence_bleu\n",
    "from numpy import argmax\n",
    "# evaluate the skill of the model\n",
    "def evaluate_model(model, descriptions, photos, tokenizer, max_length):\n",
    "    actual, predicted = list(), list()\n",
    "    # step over the whole set\n",
    "    for i in range(len(texts)):\n",
    "        yhat = generate_desc(model, tokenizer, photos[i], max_length)\n",
    "        # store actual and predicted\n",
    "        print('\\n\\nReal----> \\n\\n' + texts[i] + '\\n\\nPrediction---->\\n\\n' + yhat)\n",
    "        actual.append(texts[i].split())\n",
    "        predicted.append(yhat.split())\n",
    "    # calculate BLEU score\n",
    "    #bleu = sentence_bleu(actual, predicted)\n",
    "    print(predicted)\n",
    "    print(\"actual\\n\\n\\n\")\n",
    "    print(actual)\n",
    "    return actual, predicted\n",
    "\n",
    "actual, predicted = evaluate_model(loaded_model, texts, train_features, tokenizer, max_length)"
   ]
  },
  {
   "cell_type": "code",
   "execution_count": 65,
   "metadata": {},
   "outputs": [
    {
     "name": "stdout",
     "output_type": "stream",
     "text": [
      "['header', '{', 'btn-active', 'btn-inactive', '}', 'row', '{', 'single', '{', 'small-title', 'text', 'btn-red', '}', '}', 'row', '{', 'double', '{', 'small-title', 'text', 'btn-green', '}', 'double', '{', 'small-title', 'text', 'btn-green', '}', '}', 'row', '{', 'quadruple', '{', 'small-title', 'text', 'btn-green', '}', 'quadruple', '{', 'small-title', 'text', 'btn-red', '}', 'quadruple', '{', 'small-title', 'text', 'btn-red', '}', 'quadruple', '{', 'small-title', 'text', 'btn-orange', '}', '}']\n"
     ]
    }
   ],
   "source": [
    "# print(actual[0][1:-1])\n",
    "test = actual[0][1:-1]\n",
    "# print(test)\n",
    "test = ' '.join(test)\n",
    "test = test.replace(\",\", \"\")\n",
    "# print(test)\n",
    "test = test.split()\n",
    "# print(test)\n",
    "# print(test)\n",
    "#bootstrap_markup = compiler.compile(test, rendering_function=render_content_with_text)\n",
    "# print(actual[0])\n",
    "print(test)"
   ]
  },
  {
   "cell_type": "code",
   "execution_count": 54,
   "metadata": {},
   "outputs": [],
   "source": [
    "from compiler.classes.Utils import *\n",
    "from compiler.classes.Compiler import *"
   ]
  },
  {
   "cell_type": "code",
   "execution_count": 72,
   "metadata": {},
   "outputs": [
    {
     "name": "stdout",
     "output_type": "stream",
     "text": [
      "['header', '{', 'btn-active', 'btn-inactive', '}', 'row', '{', 'single', '{', 'small-title', 'text', 'btn-red', '}', '}', 'row', '{', 'double', '{', 'small-title', 'text', 'btn-green', '}', 'double', '{', 'small-title', 'text', 'btn-green', '}', '}', 'row', '{', 'quadruple', '{', 'small-title', 'text', 'btn-green', '}', 'quadruple', '{', 'small-title', 'text', 'btn-red', '}', 'quadruple', '{', 'small-title', 'text', 'btn-red', '}', 'quadruple', '{', 'small-title', 'text', 'btn-orange', '}', '}']\n",
      "<div class=\"header clearfix\">\n",
      "  <nav>\n",
      "    <ul class=\"nav nav-pills pull-left\">\n",
      "      {}\n",
      "    </ul>\n",
      "  </nav>\n",
      "</div>\n",
      "\n",
      "<li class=\"active\"><a href=\"#\">[]</a></li>\n",
      "\n",
      "<li><a href=\"#\">[]</a></li>\n",
      "\n"
     ]
    },
    {
     "ename": "KeyError",
     "evalue": "''",
     "output_type": "error",
     "traceback": [
      "\u001b[0;31m----------------------------------------------------------\u001b[0m",
      "\u001b[0;31mKeyError\u001b[0m                 Traceback (most recent call last)",
      "\u001b[0;32m<ipython-input-72-b89fcafb5159>\u001b[0m in \u001b[0;36m<module>\u001b[0;34m()\u001b[0m\n\u001b[1;32m     28\u001b[0m \u001b[0;31m#compiler.compile(input_file_path, output_file_path, rendering_function=render_content_with_text)\u001b[0m\u001b[0;34m\u001b[0m\u001b[0;34m\u001b[0m\u001b[0m\n\u001b[1;32m     29\u001b[0m \u001b[0;31m# Tracer()()\u001b[0m\u001b[0;34m\u001b[0m\u001b[0;34m\u001b[0m\u001b[0m\n\u001b[0;32m---> 30\u001b[0;31m \u001b[0mbootstrap_markup\u001b[0m \u001b[0;34m=\u001b[0m \u001b[0mcompiler\u001b[0m\u001b[0;34m.\u001b[0m\u001b[0mcompile\u001b[0m\u001b[0;34m(\u001b[0m\u001b[0mtest\u001b[0m\u001b[0;34m,\u001b[0m \u001b[0mrendering_function\u001b[0m\u001b[0;34m=\u001b[0m\u001b[0;32mNone\u001b[0m\u001b[0;34m)\u001b[0m\u001b[0;34m\u001b[0m\u001b[0m\n\u001b[0m",
      "\u001b[0;32m~/42/screenshot2code/local/full_version/compiler/classes/Compiler.py\u001b[0m in \u001b[0;36mcompile\u001b[0;34m(self, input_tokens, rendering_function)\u001b[0m\n\u001b[1;32m     39\u001b[0m                     \u001b[0melement\u001b[0m \u001b[0;34m=\u001b[0m \u001b[0mNode\u001b[0m\u001b[0;34m(\u001b[0m\u001b[0mt\u001b[0m\u001b[0;34m,\u001b[0m \u001b[0mcurrent_parent\u001b[0m\u001b[0;34m,\u001b[0m \u001b[0mself\u001b[0m\u001b[0;34m.\u001b[0m\u001b[0mcontent_holder\u001b[0m\u001b[0;34m)\u001b[0m\u001b[0;34m\u001b[0m\u001b[0m\n\u001b[1;32m     40\u001b[0m                     \u001b[0mcurrent_parent\u001b[0m\u001b[0;34m.\u001b[0m\u001b[0madd_child\u001b[0m\u001b[0;34m(\u001b[0m\u001b[0melement\u001b[0m\u001b[0;34m)\u001b[0m\u001b[0;34m\u001b[0m\u001b[0m\n\u001b[0;32m---> 41\u001b[0;31m \u001b[0;34m\u001b[0m\u001b[0m\n\u001b[0m\u001b[1;32m     42\u001b[0m         \u001b[0;31m#output_html = self.root.render(self.dsl_mapping, rendering_function=rendering_function)\u001b[0m\u001b[0;34m\u001b[0m\u001b[0;34m\u001b[0m\u001b[0m\n\u001b[1;32m     43\u001b[0m         \u001b[0;32mreturn\u001b[0m \u001b[0;34m\"test\"\u001b[0m\u001b[0;34m\u001b[0m\u001b[0m\n",
      "\u001b[0;32m~/42/screenshot2code/local/full_version/compiler/classes/Node.py\u001b[0m in \u001b[0;36mrender\u001b[0;34m(self, mapping, rendering_function)\u001b[0m\n\u001b[1;32m     21\u001b[0m     \u001b[0;32mdef\u001b[0m \u001b[0mrender\u001b[0m\u001b[0;34m(\u001b[0m\u001b[0mself\u001b[0m\u001b[0;34m,\u001b[0m \u001b[0mmapping\u001b[0m\u001b[0;34m,\u001b[0m \u001b[0mrendering_function\u001b[0m\u001b[0;34m=\u001b[0m\u001b[0;32mNone\u001b[0m\u001b[0;34m)\u001b[0m\u001b[0;34m:\u001b[0m\u001b[0;34m\u001b[0m\u001b[0m\n\u001b[1;32m     22\u001b[0m         \u001b[0mcontent\u001b[0m \u001b[0;34m=\u001b[0m \u001b[0;34m\"\"\u001b[0m\u001b[0;34m\u001b[0m\u001b[0m\n\u001b[0;32m---> 23\u001b[0;31m         \u001b[0;32mfor\u001b[0m \u001b[0mchild\u001b[0m \u001b[0;32min\u001b[0m \u001b[0mself\u001b[0m\u001b[0;34m.\u001b[0m\u001b[0mchildren\u001b[0m\u001b[0;34m:\u001b[0m\u001b[0;34m\u001b[0m\u001b[0m\n\u001b[0m\u001b[1;32m     24\u001b[0m             \u001b[0mcontent\u001b[0m \u001b[0;34m+=\u001b[0m \u001b[0mchild\u001b[0m\u001b[0;34m.\u001b[0m\u001b[0mrender\u001b[0m\u001b[0;34m(\u001b[0m\u001b[0mmapping\u001b[0m\u001b[0;34m,\u001b[0m \u001b[0mrendering_function\u001b[0m\u001b[0;34m)\u001b[0m\u001b[0;34m\u001b[0m\u001b[0m\n\u001b[1;32m     25\u001b[0m \u001b[0;34m\u001b[0m\u001b[0m\n",
      "\u001b[0;32m~/42/screenshot2code/local/full_version/compiler/classes/Node.py\u001b[0m in \u001b[0;36mrender\u001b[0;34m(self, mapping, rendering_function)\u001b[0m\n\u001b[1;32m     23\u001b[0m         \u001b[0;32mfor\u001b[0m \u001b[0mchild\u001b[0m \u001b[0;32min\u001b[0m \u001b[0mself\u001b[0m\u001b[0;34m.\u001b[0m\u001b[0mchildren\u001b[0m\u001b[0;34m:\u001b[0m\u001b[0;34m\u001b[0m\u001b[0m\n\u001b[1;32m     24\u001b[0m             \u001b[0mcontent\u001b[0m \u001b[0;34m+=\u001b[0m \u001b[0mchild\u001b[0m\u001b[0;34m.\u001b[0m\u001b[0mrender\u001b[0m\u001b[0;34m(\u001b[0m\u001b[0mmapping\u001b[0m\u001b[0;34m,\u001b[0m \u001b[0mrendering_function\u001b[0m\u001b[0;34m)\u001b[0m\u001b[0;34m\u001b[0m\u001b[0m\n\u001b[0;32m---> 25\u001b[0;31m \u001b[0;34m\u001b[0m\u001b[0m\n\u001b[0m\u001b[1;32m     26\u001b[0m         \u001b[0mvalue\u001b[0m \u001b[0;34m=\u001b[0m \u001b[0mmapping\u001b[0m\u001b[0;34m[\u001b[0m\u001b[0mself\u001b[0m\u001b[0;34m.\u001b[0m\u001b[0mkey\u001b[0m\u001b[0;34m]\u001b[0m\u001b[0;34m\u001b[0m\u001b[0m\n\u001b[1;32m     27\u001b[0m         \u001b[0mprint\u001b[0m\u001b[0;34m(\u001b[0m\u001b[0mvalue\u001b[0m\u001b[0;34m)\u001b[0m\u001b[0;34m\u001b[0m\u001b[0m\n",
      "\u001b[0;31mKeyError\u001b[0m: ''"
     ]
    }
   ],
   "source": [
    "from IPython.core.debugger import Tracer\n",
    "\n",
    "FILL_WITH_RANDOM_TEXT = True\n",
    "TEXT_PLACE_HOLDER = \"[]\"\n",
    "\n",
    "dsl_path = \"compiler/assets/web-dsl-mapping.json\"\n",
    "compiler = Compiler(dsl_path)\n",
    "\n",
    "print(test)\n",
    "\n",
    "def render_content_with_text(key, value):\n",
    "    if FILL_WITH_RANDOM_TEXT:\n",
    "        if key.find(\"btn\") != -1:\n",
    "            value = value.replace(TEXT_PLACE_HOLDER, Utils.get_random_text())\n",
    "        elif key.find(\"title\") != -1:\n",
    "            value = value.replace(TEXT_PLACE_HOLDER, Utils.get_random_text(length_text=5, space_number=0))\n",
    "        elif key.find(\"text\") != -1:\n",
    "            value = value.replace(TEXT_PLACE_HOLDER,\n",
    "                                  Utils.get_random_text(length_text=56, space_number=7, with_upper_case=False))\n",
    "    return value\n",
    "\n",
    "#file_uid = basename(input_file)[:basename(input_file).find(\".\")]\n",
    "#path = input_file[:input_file.find(file_uid)]\n",
    "\n",
    "#input_file_path = \"{}{}.gui\".format(path, file_uid)\n",
    "#output_file_path = \"{}{}.html\".format(path, file_uid)\n",
    "\n",
    "#compiler.compile(input_file_path, output_file_path, rendering_function=render_content_with_text)\n",
    "# Tracer()()\n",
    "bootstrap_markup = compiler.compile(test, rendering_function=render_content_with_text)"
   ]
  },
  {
   "cell_type": "code",
   "execution_count": null,
   "metadata": {},
   "outputs": [],
   "source": [
    "print(bootstrap_markup)"
   ]
  },
  {
   "cell_type": "code",
   "execution_count": null,
   "metadata": {
    "collapsed": true
   },
   "outputs": [],
   "source": []
  }
 ],
 "metadata": {
  "kernelspec": {
   "display_name": "Python 3",
   "language": "python",
   "name": "python3"
  },
  "language_info": {
   "codemirror_mode": {
    "name": "ipython",
    "version": 3
   },
   "file_extension": ".py",
   "mimetype": "text/x-python",
   "name": "python",
   "nbconvert_exporter": "python",
   "pygments_lexer": "ipython3",
   "version": "3.6.3"
  }
 },
 "nbformat": 4,
 "nbformat_minor": 2
}
