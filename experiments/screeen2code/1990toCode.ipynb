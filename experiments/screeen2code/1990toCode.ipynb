{
 "cells": [
  {
   "cell_type": "code",
   "execution_count": null,
   "metadata": {},
   "outputs": [],
   "source": [
    "from keras.layers import Input, Dense, Dropout, \\\n",
    "                         RepeatVector, LSTM, concatenate, \\\n",
    "                         Conv2D, MaxPooling2D, Flatten\n",
    "from keras.models import Sequential, Model\n",
    "from keras.optimizers import RMSprop\n",
    "\n",
    "visual_input = Input(shape=input_shape)\n",
    "encoded_image = image_model(visual_input)\n",
    "\n",
    "language_model = Sequential()\n",
    "language_model.add(LSTM(128, return_sequences=True, input_shape=(CONTEXT_LENGTH, output_size)))\n",
    "language_model.add(LSTM(128, return_sequences=True))\n",
    "\n",
    "textual_input = Input(shape=(CONTEXT_LENGTH, output_size))\n",
    "encoded_text = language_model(textual_input)\n",
    "\n",
    "decoder = concatenate([encoded_image, encoded_text])\n",
    "\n",
    "decoder = LSTM(512, return_sequences=True)(decoder)\n",
    "decoder = LSTM(512, return_sequences=False)(decoder)\n",
    "decoder = Dense(output_size, activation='softmax')(decoder)\n",
    "\n",
    "self.model = Model(inputs=[visual_input, textual_input], outputs=decoder)\n",
    "\n",
    "optimizer = RMSprop(lr=0.0001, clipvalue=1.0)\n",
    "self.model.compile(loss='categorical_crossentropy', optimizer=optimizer)\n",
    "\n",
    "self.model.fit([images, partial_captions], next_words, shuffle=False, epochs=EPOCHS, batch_size=BATCH_SIZE, verbose=1)\n"
   ]
  },
  {
   "cell_type": "code",
   "execution_count": null,
   "metadata": {
    "collapsed": true
   },
   "outputs": [],
   "source": [
    "\n",
    "# image_model = Sequential()\n",
    "# image_model.add(ConvStack, input_shape=input_shape))\n",
    "# image_model.add(RepeatVector(CONTEXT_LENGTH))"
   ]
  }
 ],
 "metadata": {
  "kernelspec": {
   "display_name": "Python 3",
   "language": "python",
   "name": "python3"
  },
  "language_info": {
   "codemirror_mode": {
    "name": "ipython",
    "version": 3
   },
   "file_extension": ".py",
   "mimetype": "text/x-python",
   "name": "python",
   "nbconvert_exporter": "python",
   "pygments_lexer": "ipython3",
   "version": "3.6.1"
  }
 },
 "nbformat": 4,
 "nbformat_minor": 2
}
