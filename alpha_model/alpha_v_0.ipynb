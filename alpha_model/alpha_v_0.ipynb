{
 "cells": [
  {
   "cell_type": "code",
   "execution_count": 87,
   "metadata": {},
   "outputs": [],
   "source": [
    "from keras.models import Sequential\n",
    "from keras.utils import to_categorical\n",
    "from keras.layers.core import Dense, Dropout, Activation, Flatten\n",
    "from keras.layers.convolutional import Convolution2D, MaxPooling2D, ZeroPadding2D\n",
    "from keras.optimizers import SGD, Adadelta, Adagrad\n",
    "from keras.utils import np_utils, generic_utils\n",
    "from keras.callbacks import EarlyStopping\n",
    "from keras.layers.advanced_activations import PReLU, LeakyReLU\n",
    "from keras.layers import Embedding,GRU,TimeDistributed,RepeatVector, LSTM, concatenate , Input, Reshape\n",
    "from keras.preprocessing.text import one_hot\n",
    "from keras.preprocessing import sequence\n",
    "from keras.preprocessing.image import ImageDataGenerator, array_to_img, img_to_array, load_img\n",
    "import numpy as np\n",
    "from keras import backend as K \n",
    "from keras.applications.inception_resnet_v2 import InceptionResNetV2\n",
    "from keras.preprocessing import image\n",
    "from keras.applications.inception_resnet_v2 import preprocess_input\n",
    "from keras.models import Model\n",
    "# K.set_image_dim_ordering('th')"
   ]
  },
  {
   "cell_type": "code",
   "execution_count": 88,
   "metadata": {
    "collapsed": true
   },
   "outputs": [],
   "source": [
    "max_caption_len = 4\n",
    "vocab_size = 4"
   ]
  },
  {
   "cell_type": "code",
   "execution_count": 89,
   "metadata": {},
   "outputs": [],
   "source": [
    "img_path = 'screenshot.jpg'\n",
    "img = image.load_img(img_path, target_size=(299, 299))\n",
    "img = image.img_to_array(img)\n",
    "images = []\n",
    "for i in range(3):\n",
    "    images.append(img)\n",
    "images = np.expand_dims(images, axis=0)\n",
    "images = preprocess_input(images)\n",
    "images = images.reshape(3, 3, 299, 299)"
   ]
  },
  {
   "cell_type": "code",
   "execution_count": 100,
   "metadata": {},
   "outputs": [],
   "source": [
    "# html_input = np.array([[[0,0,0,1],\n",
    "#                         [0,0,0,0], \n",
    "#                         [0,0,0,0],\n",
    "#                         [0,0,0,0]], \n",
    "#                        [[0,0,0,1],\n",
    "#                         [0,0,1,0], \n",
    "#                         [0,0,0,0],\n",
    "#                         [0,0,0,0]], \n",
    "#                        [[0,0,0,1],\n",
    "#                         [0,0,1,0], \n",
    "#                         [0,1,0,0],\n",
    "#                         [0,0,0,0]]])\n",
    "html_input = to_categorical([[0, 0, 0, 1], [0, 0, 1, 2], [0, 1, 2, 3]])\n",
    "html_input = html_input.reshape(3,4,4)\n",
    "next_words = to_categorical([[1, 2, 3]])"
   ]
  },
  {
   "cell_type": "code",
   "execution_count": 101,
   "metadata": {},
   "outputs": [
    {
     "name": "stdout",
     "output_type": "stream",
     "text": [
      "(?, 4, 1024)\n"
     ]
    }
   ],
   "source": [
    "IR2 = InceptionResNetV2(weights=None, include_top=True)\n",
    "ir2_out = Dense(1024, activation='relu')(IR2.output)\n",
    "ir2_out = RepeatVector(max_caption_len)(ir2_out)\n",
    "print(ir2_out.shape)"
   ]
  },
  {
   "cell_type": "code",
   "execution_count": 102,
   "metadata": {},
   "outputs": [
    {
     "name": "stdout",
     "output_type": "stream",
     "text": [
      "(?, ?, 128)\n"
     ]
    }
   ],
   "source": [
    "language_input = Input(shape=(vocab_size, vocab_size))\n",
    "language_model = LSTM(128, return_sequences=True)(language_input)\n",
    "print(language_model.shape)"
   ]
  },
  {
   "cell_type": "code",
   "execution_count": 103,
   "metadata": {},
   "outputs": [
    {
     "name": "stdout",
     "output_type": "stream",
     "text": [
      "(?, 4, 1024) (?, ?, 128)\n",
      "(?, 512)\n"
     ]
    }
   ],
   "source": [
    "print(ir2_out.shape, language_model.shape)\n",
    "decoder = concatenate([ir2_out, language_model])\n",
    "decoder = LSTM(512, return_sequences=False)(decoder)\n",
    "decoder_output = Dense(vocab_size, activation='softmax')(decoder)\n",
    "# model.summary()\n",
    "print(decoder.shape)\n",
    "model = Model(inputs=[IR2.input, language_input], outputs=decoder_output)\n",
    "model.compile(loss='categorical_crossentropy', optimizer='rmsprop')"
   ]
  },
  {
   "cell_type": "code",
   "execution_count": 104,
   "metadata": {},
   "outputs": [
    {
     "name": "stdout",
     "output_type": "stream",
     "text": [
      "Epoch 1/5\n",
      "3/3 [==============================] - 265s 88s/step - loss: 1.3866\n",
      "Epoch 2/5\n",
      "3/3 [==============================] - 102s 34s/step - loss: 1.2723\n",
      "Epoch 3/5\n",
      "3/3 [==============================] - 17s 6s/step - loss: 1.0909\n",
      "Epoch 4/5\n",
      "3/3 [==============================] - 16s 5s/step - loss: 1.0840\n",
      "Epoch 5/5\n",
      "3/3 [==============================] - 16s 5s/step - loss: 1.3368\n"
     ]
    },
    {
     "data": {
      "text/plain": [
       "<keras.callbacks.History at 0x190cdcf60>"
      ]
     },
     "execution_count": 104,
     "metadata": {},
     "output_type": "execute_result"
    }
   ],
   "source": [
    "model.fit([images, html_input], next_words, batch_size=3, shuffle=False, epochs=5)"
   ]
  },
  {
   "cell_type": "code",
   "execution_count": null,
   "metadata": {
    "collapsed": true
   },
   "outputs": [],
   "source": []
  },
  {
   "cell_type": "code",
   "execution_count": null,
   "metadata": {
    "collapsed": true
   },
   "outputs": [],
   "source": []
  },
  {
   "cell_type": "code",
   "execution_count": null,
   "metadata": {
    "collapsed": true
   },
   "outputs": [],
   "source": []
  },
  {
   "cell_type": "code",
   "execution_count": null,
   "metadata": {
    "collapsed": true
   },
   "outputs": [],
   "source": []
  }
 ],
 "metadata": {
  "kernelspec": {
   "display_name": "Python 3",
   "language": "python",
   "name": "python3"
  }
 },
 "nbformat": 4,
 "nbformat_minor": 2
}
