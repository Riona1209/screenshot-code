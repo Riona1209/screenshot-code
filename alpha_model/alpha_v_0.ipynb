{
 "cells": [
  {
   "cell_type": "code",
   "execution_count": 1,
   "metadata": {},
   "outputs": [
    {
     "name": "stderr",
     "output_type": "stream",
     "text": [
      "Using TensorFlow backend.\n",
      "/Users/ewallner/.brew/Cellar/python3/3.6.1/Frameworks/Python.framework/Versions/3.6/lib/python3.6/importlib/_bootstrap.py:205: RuntimeWarning: compiletime version 3.5 of module 'tensorflow.python.framework.fast_tensor_util' does not match runtime version 3.6\n",
      "  return f(*args, **kwds)\n"
     ]
    },
    {
     "name": "stdout",
     "output_type": "stream",
     "text": [
      "data has 1409 characters, 58 unique.\n"
     ]
    }
   ],
   "source": [
    "from keras.layers import Input, Dense, Dropout, RepeatVector, LSTM, concatenate, Conv2D, MaxPooling2D, Flatten\n",
    "from keras.models import Sequential, Model\n",
    "from keras.optimizers import RMSprop\n",
    "\n",
    "\n",
    "data = open('index.txt', 'r').read()\n",
    "chars = list(set(data))\n",
    "data_size, vocab_size = len(data), len(chars)\n",
    "print('data has %d characters, %d unique.' % (data_size, vocab_size))\n",
    "char_to_ix = { ch:i for i,ch in enumerate(chars) }\n",
    "ix_to_char = { i:ch for i,ch in enumerate(chars) }\n",
    "\n",
    "\n",
    "# image_model = Sequential()\n",
    "# image_model.add(Conv2D(32, (3, 3), padding='valid', activation='relu', input_shape=(512,None))\n",
    "# image_model.add(Conv2D(32, (3, 3), padding='valid', activation='relu'))\n",
    "# image_model.add(MaxPooling2D(pool_size=(2, 2)))\n",
    "# image_model.add(Dropout(0.25))\n",
    "\n",
    "# image_model.add(Conv2D(64, (3, 3), padding='valid', activation='relu'))\n",
    "# image_model.add(Conv2D(64, (3, 3), padding='valid', activation='relu'))\n",
    "# image_model.add(MaxPooling2D(pool_size=(2, 2)))\n",
    "# image_model.add(Dropout(0.25))\n",
    "\n",
    "# image_model.add(Conv2D(128, (3, 3), padding='valid', activation='relu'))\n",
    "# image_model.add(Conv2D(128, (3, 3), padding='valid', activation='relu'))\n",
    "# image_model.add(MaxPooling2D(pool_size=(2, 2)))\n",
    "# image_model.add(Dropout(0.25))\n",
    "\n",
    "# image_model.add(Flatten())\n",
    "# image_model.add(Dense(1024, activation='relu'))\n",
    "# image_model.add(Dropout(0.3))\n",
    "# image_model.add(Dense(1024, activation='relu'))\n",
    "# image_model.add(Dropout(0.3))\n",
    "\n",
    "# image_model.add(RepeatVector(48))\n",
    "\n",
    "# visual_input = Input(shape=input_shape)\n",
    "# encoded_image = image_model(visual_input)\n",
    "\n",
    "# textual_input = Input(shape=(48, output_size))\n",
    "\n",
    "# decoder = LSTM(512, return_sequences=True)(decoder)\n",
    "# decoder = LSTM(512, return_sequences=False)(decoder)\n",
    "# decoder = Dense(output_size, activation='softmax')(decoder)\n",
    "\n",
    "# model = Model(inputs=visual_input, outputs=decoder)\n",
    "\n",
    "# optimizer = RMSprop(lr=0.0001, clipvalue=1.0)\n",
    "# model.compile(loss='categorical_crossentropy', optimizer=optimizer)\n",
    "\n",
    "# model.fit(self, images, partial_captions, next_words):\n",
    "# self.model.fit([images, partial_captions], next_words, shuffle=False, epochs=1, batch_size=1, verbose=1)\n",
    "\n",
    "# model.predict([image, partial_caption], verbose=0)"
   ]
  },
  {
   "cell_type": "code",
   "execution_count": 3,
   "metadata": {},
   "outputs": [
    {
     "name": "stdout",
     "output_type": "stream",
     "text": [
      "['/', 'H', \"'\", 'y', '.', 'c', '=', 'h', 'M', 'u', '3', ',', 'N', 'P', 'e', '2', 'I', '>', 'L', 'f', 't', '\\n', 'G', 'z', '7', 'C', '\"', 'k', 'g', 'v', 'm', '4', 'S', 'd', 'i', '!', 'l', 'a', 'o', 'T', 'W', 'r', '6', '8', 's', 'O', 'w', 'R', 'p', 'F', '5', ' ', '<', 'B', '1', 'n', 'A', 'b']\n"
     ]
    }
   ],
   "source": [
    "print(chars)"
   ]
  },
  {
   "cell_type": "code",
   "execution_count": null,
   "metadata": {
    "collapsed": true
   },
   "outputs": [],
   "source": []
  }
 ],
 "metadata": {
  "kernelspec": {
   "display_name": "Python 3",
   "language": "python",
   "name": "python3"
  },
  "language_info": {
   "codemirror_mode": {
    "name": "ipython",
    "version": 3
   },
   "file_extension": ".py",
   "mimetype": "text/x-python",
   "name": "python",
   "nbconvert_exporter": "python",
   "pygments_lexer": "ipython3",
   "version": "3.6.1"
  }
 },
 "nbformat": 4,
 "nbformat_minor": 2
}
