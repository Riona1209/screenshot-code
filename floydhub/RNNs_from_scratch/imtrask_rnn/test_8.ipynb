{
 "cells": [
  {
   "cell_type": "code",
   "execution_count": null,
   "metadata": {
    "collapsed": true
   },
   "outputs": [],
   "source": [
    "for i in range(binariy_dim):\n",
    "    \n",
    "    X = np.array([[a[i], b[i]]])\n",
    "    layer_1 = layer_1_values[-i-1]\n",
    "    prev_layer_1 = layer_1_values[-i-2]\n",
    "    \n",
    "    layer_2_delta = layer_2_deltas[-i-1]\n",
    "    layer_1_delta = (future_layer_1_delta.dot(synapse_h.T) + layer_2_delta.dot(synapse_1.T) * sigmoid_output_to_derivative(layer_1))\n",
    "    \n",
    "    synapse_1_update += np.atleast_2d(layer_1).T.dot(layer_2_delta)\n",
    "    synapse_h_update += np.atleast_2d(prev_layer_1).T.dot(layer_1_delta)\n",
    "    synapse_0_update += X.T.dot(layer_1_delta)\n",
    "    \n",
    "    future_layer_1_delta = layer_1_delta\n",
    "\n",
    "    \n",
    "synapse_0 += synapse_0_update * alpha\n",
    "synapse_1 += synapse_1_update * alpha \n",
    "synapse_h += synapse_h_update * alpha\n",
    "\n",
    "synapse_0_update *= 0\n",
    "synapse_1_update *= 0\n",
    "synapse_h_update *= 0"
   ]
  }
 ],
 "metadata": {
  "kernelspec": {
   "display_name": "Python 3",
   "language": "python",
   "name": "python3"
  },
  "language_info": {
   "codemirror_mode": {
    "name": "ipython",
    "version": 3
   },
   "file_extension": ".py",
   "mimetype": "text/x-python",
   "name": "python",
   "nbconvert_exporter": "python",
   "pygments_lexer": "ipython3",
   "version": "3.6.1"
  }
 },
 "nbformat": 4,
 "nbformat_minor": 2
}
