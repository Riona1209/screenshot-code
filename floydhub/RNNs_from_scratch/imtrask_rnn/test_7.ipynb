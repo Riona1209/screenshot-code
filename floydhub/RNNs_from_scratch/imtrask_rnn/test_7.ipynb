{
 "cells": [
  {
   "cell_type": "code",
   "execution_count": null,
   "metadata": {
    "collapsed": true
   },
   "outputs": [],
   "source": [
    "for i in range(binary_dim)[::-1]:\n",
    "    X = np.array([[a[i], b[i]]])\n",
    "    y = np.array([c[i]]).T\n",
    "    \n",
    "    layer_1 = sigmoid(np.dot(X, synapse_0) + np.dot(layer_1_values[-1], synapse_h))\n",
    "    layer_2 = sigmoid(np.dot(layer_1, synapse_1))\n",
    "    \n",
    "    error = y - layer_2\n",
    "    layer_2_deltas.append(error * sigmoid_to_derivative(layer_2))\n",
    "    overallError += np.abs(layer_2_error[0])\n",
    "    \n",
    "    d[i] = np.round(layer_2[0][0])\n",
    "    \n",
    "    layer_1_values.append(copy.deep(layer_1))"
   ]
  }
 ],
 "metadata": {
  "kernelspec": {
   "display_name": "Python 3",
   "language": "python",
   "name": "python3"
  },
  "language_info": {
   "codemirror_mode": {
    "name": "ipython",
    "version": 3
   },
   "file_extension": ".py",
   "mimetype": "text/x-python",
   "name": "python",
   "nbconvert_exporter": "python",
   "pygments_lexer": "ipython3",
   "version": "3.6.1"
  }
 },
 "nbformat": 4,
 "nbformat_minor": 2
}
