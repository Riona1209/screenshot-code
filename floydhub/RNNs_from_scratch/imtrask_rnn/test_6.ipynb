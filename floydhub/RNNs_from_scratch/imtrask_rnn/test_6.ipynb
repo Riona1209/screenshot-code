{
 "cells": [
  {
   "cell_type": "code",
   "execution_count": 6,
   "metadata": {},
   "outputs": [],
   "source": [
    "binary_dim = 8"
   ]
  },
  {
   "cell_type": "code",
   "execution_count": null,
   "metadata": {
    "collapsed": true
   },
   "outputs": [],
   "source": [
    "for i in range(binary_dim)[::-1]:\n",
    "    X = np.array([[a[i], b[i]]])\n",
    "    y = np.array([[c[i]]]).T\n",
    "    \n",
    "    layer_1 = np.array(X.dot(synapse_0) + layer_1[-1].dot(synapse_h))\n",
    "    layer_2 = np.array(layer_1.dot(synapse_2))\n",
    "    \n",
    "    error = layer_2 - y\n",
    "    layer_2_deltas.append(error * sigmoid_to_derivative(layer_2))\n",
    "    \n",
    "    d[i] = copy.deep(layer_2[0][0])\n",
    "    \n",
    "    "
   ]
  }
 ],
 "metadata": {
  "kernelspec": {
   "display_name": "Python 3",
   "language": "python",
   "name": "python3"
  },
  "language_info": {
   "codemirror_mode": {
    "name": "ipython",
    "version": 3
   },
   "file_extension": ".py",
   "mimetype": "text/x-python",
   "name": "python",
   "nbconvert_exporter": "python",
   "pygments_lexer": "ipython3",
   "version": "3.6.1"
  }
 },
 "nbformat": 4,
 "nbformat_minor": 2
}
