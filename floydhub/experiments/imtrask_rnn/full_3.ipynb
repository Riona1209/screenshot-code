{
 "cells": [
  {
   "cell_type": "code",
   "execution_count": 17,
   "metadata": {},
   "outputs": [
    {
     "name": "stdout",
     "output_type": "stream",
     "text": [
      "[0 1 2 3 4 5 6 7 8 9]\n"
     ]
    }
   ],
   "source": [
    "import numpy as np\n",
    "emil = np.array(range(10))\n",
    "print(emil)"
   ]
  },
  {
   "cell_type": "code",
   "execution_count": 28,
   "metadata": {},
   "outputs": [
    {
     "name": "stdout",
     "output_type": "stream",
     "text": [
      "[[1]]\n"
     ]
    }
   ],
   "source": [
    "emil[-2]\n",
    "erik = np.atleast_2d(1)\n",
    "print(erik)"
   ]
  },
  {
   "cell_type": "code",
   "execution_count": 21,
   "metadata": {},
   "outputs": [
    {
     "name": "stdout",
     "output_type": "stream",
     "text": [
      "frist 0\n",
      "second 6\n",
      "frist 1\n",
      "second 5\n",
      "frist 2\n",
      "second 4\n",
      "frist 3\n",
      "second 3\n",
      "frist 4\n",
      "second 2\n",
      "frist 5\n",
      "second 1\n",
      "frist 6\n",
      "second 0\n",
      "frist 7\n",
      "second -1\n"
     ]
    }
   ],
   "source": [
    "for i in range(8)[::-1]:\n",
    "    print(\"frist\", 7 - i)\n",
    "    print(\"second\", i-1)"
   ]
  },
  {
   "cell_type": "code",
   "execution_count": 22,
   "metadata": {
    "collapsed": true
   },
   "outputs": [],
   "source": [
    "binary_dim = 8"
   ]
  },
  {
   "cell_type": "code",
   "execution_count": 25,
   "metadata": {},
   "outputs": [
    {
     "name": "stdout",
     "output_type": "stream",
     "text": [
      "7\n",
      "6\n",
      "5\n",
      "4\n",
      "3\n",
      "2\n",
      "1\n",
      "0\n"
     ]
    }
   ],
   "source": [
    "for i in range(binary_dim)[::-1]:\n",
    "    print(i)"
   ]
  },
  {
   "cell_type": "code",
   "execution_count": null,
   "metadata": {
    "collapsed": true
   },
   "outputs": [],
   "source": [
    "future_delta_layer_1 = np.zeros(hidden_h)\n",
    "\n",
    "for i in range(binary_dim)[::-1]:\n",
    "    first = binary_dim - i - 1\n",
    "    \n",
    "    X = np.array([[a[first], b[first]]])\n",
    "    \n",
    "    layer_1 = layer_1_values[i]\n",
    "    prev_layer_1 = layer_1_values[i + 1]\n",
    "    layer_2_delta = layer_2_deltas[i]\n",
    "    \n",
    "    layer_1_delta = (np.dot(future_delta_layer_1, synapse_h.T) + np.dot(layer_2_delta, synapse_1)) * sigmoid_output_to_derivative(layer_1)\n",
    "    \n",
    "    synapse_1_update = np.atleast_2d(layer_1).T.dot(layer_2_delta)\n",
    "    synapse_h_update = np.atleast_2d(prev_layer_1).T.dot(layer_1_delta)\n",
    "    synapse_0_update = X.T.dot(layer_1_delta)\n",
    "    \n",
    "    future_delta_layer_1 = layer_1_delta\n",
    "    \n",
    "    \n",
    "    \n",
    "    \n",
    "    \n",
    "    \n",
    "    \n",
    "    \n",
    "    \n",
    "    \n",
    "    \n",
    "    \n",
    "    \n",
    "    \n",
    "    \n",
    "    \n",
    "    \n",
    "    \n",
    "    \n",
    "    \n",
    "    \n",
    "    \n",
    "    \n",
    "    "
   ]
  }
 ],
 "metadata": {
  "kernelspec": {
   "display_name": "Python 3",
   "language": "python",
   "name": "python3"
  },
  "language_info": {
   "codemirror_mode": {
    "name": "ipython",
    "version": 3
   },
   "file_extension": ".py",
   "mimetype": "text/x-python",
   "name": "python",
   "nbconvert_exporter": "python",
   "pygments_lexer": "ipython3",
   "version": "3.6.1"
  }
 },
 "nbformat": 4,
 "nbformat_minor": 2
}
